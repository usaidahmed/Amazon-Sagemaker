{
 "cells": [
  {
   "cell_type": "code",
   "execution_count": 16,
   "metadata": {},
   "outputs": [],
   "source": [
    "#%%sh\n",
    "#apt-get -y install unzip\n",
    "#wget -N https://sagemaker-sample-data-us-west-2.s3-us-west-2.amazonaws.com/autopilot/direct_marketing/bank-additional.zip\n",
    "#unzip -o bank-additional.zip\n",
    "\n",
    "from zipfile import ZipFile\n",
    "zip = ZipFile('bank-additional (1).zip')\n",
    "zip.extractall()"
   ]
  },
  {
   "cell_type": "code",
   "execution_count": 18,
   "metadata": {},
   "outputs": [],
   "source": [
    "#import pandas as pd\n",
    "#local_data_path = \"./bank-additional/bank-additional-full.csv\"\n",
    "#df = pd.read_csv(local_data_path, sep = \",\")\n",
    "#df.to_csv('automl-train.csv', index=False, header=True)\n",
    "#f[:10]"
   ]
  },
  {
   "cell_type": "code",
   "execution_count": 17,
   "metadata": {},
   "outputs": [
    {
     "name": "stdout",
     "output_type": "stream",
     "text": [
      "s3://sagemaker-us-east-2-664224523979/sagemaker/DEMO-autopilot/input/bank-additional-full.csv\n"
     ]
    }
   ],
   "source": [
    "import sagemaker\n",
    "prefix = 'sagemaker/DEMO-autopilot/input'\n",
    "sess = sagemaker.Session()\n",
    "uri = sess.upload_data(path=\"bank-additional/bank-additional-full.csv\", key_prefix=prefix)\n",
    "print(uri)"
   ]
  },
  {
   "cell_type": "code",
   "execution_count": 19,
   "metadata": {},
   "outputs": [],
   "source": [
    "import boto3\n",
    "sm_rt = boto3.Session().client('runtime.sagemaker')"
   ]
  },
  {
   "cell_type": "code",
   "execution_count": 21,
   "metadata": {},
   "outputs": [],
   "source": [
    "ep_name = 'my-first-autopilot-endpoint'\n",
    "sample ='56,housemaid,married,basic.4y,no,no,no,telephone,may,mon,261,1,999,0,nonexistent,1.1,93.994,-36.4,4.857,5191.0'"
   ]
  },
  {
   "cell_type": "code",
   "execution_count": 22,
   "metadata": {},
   "outputs": [],
   "source": [
    "response = sm_rt.invoke_endpoint(EndpointName=ep_name,\n",
    "                                 ContentType='text/csv',\n",
    "                                 Accept='text/csv',\n",
    "                                 Body=sample)"
   ]
  },
  {
   "cell_type": "code",
   "execution_count": 23,
   "metadata": {},
   "outputs": [
    {
     "name": "stdout",
     "output_type": "stream",
     "text": [
      "no,0.0003536962904036045\n",
      "\n"
     ]
    }
   ],
   "source": [
    "response = response['Body'].read().decode(\"utf-8\")\n",
    "print(response)"
   ]
  },
  {
   "cell_type": "code",
   "execution_count": 26,
   "metadata": {},
   "outputs": [],
   "source": [
    "sm = boto3.Session().client('sagemaker')\n",
    "sm.delete_endpoint(EndpointName=ep_name)"
   ]
  },
  {
   "cell_type": "code",
   "execution_count": null,
   "metadata": {},
   "outputs": [],
   "source": []
  }
 ],
 "metadata": {
  "instance_type": "ml.t3.medium",
  "kernelspec": {
   "display_name": "Python 3 (Data Science)",
   "language": "python",
   "name": "python3__SAGEMAKER_INTERNAL__arn:aws:sagemaker:us-east-2:429704687514:image/datascience-1.0"
  },
  "language_info": {
   "codemirror_mode": {
    "name": "ipython",
    "version": 3
   },
   "file_extension": ".py",
   "mimetype": "text/x-python",
   "name": "python",
   "nbconvert_exporter": "python",
   "pygments_lexer": "ipython3",
   "version": "3.7.10"
  }
 },
 "nbformat": 4,
 "nbformat_minor": 4
}
