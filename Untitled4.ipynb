{
 "cells": [
  {
   "cell_type": "code",
   "execution_count": 14,
   "metadata": {},
   "outputs": [
    {
     "name": "stdout",
     "output_type": "stream",
     "text": [
      "Refresh index: 100% (206/206), done.\n",
      "On branch master\n",
      "Changes not staged for commit:\n",
      "  (use \"git add <file>...\" to update what will be committed)\n",
      "  (use \"git checkout -- <file>...\" to discard changes in working directory)\n",
      "\n",
      "\t\u001b[31mmodified:   .ipython/profile_default/history.sqlite\u001b[m\n",
      "\t\u001b[31mmodified:   .jupyter/lab/workspaces/lab-a511.jupyterlab-workspace\u001b[m\n",
      "\t\u001b[31mmodified:   .local/share/jupyter/nbsignatures.db\u001b[m\n",
      "\t\u001b[31mmodified:   Untitled4.ipynb\u001b[m\n",
      "\n",
      "Untracked files:\n",
      "  (use \"git add <file>...\" to include in what will be committed)\n",
      "\n",
      "\t\u001b[31m.gitconfig\u001b[m\n",
      "\t\u001b[31m.local/share/Trash/files/household_power_consumption.txt\u001b[m\n",
      "\t\u001b[31m.local/share/Trash/files/training 1.txt\u001b[m\n",
      "\t\u001b[31m.local/share/Trash/files/training.txt\u001b[m\n",
      "\t\u001b[31m.local/share/Trash/files/validation.txt\u001b[m\n",
      "\t\u001b[31m.local/share/Trash/info/household_power_consumption.txt.trashinfo\u001b[m\n",
      "\t\u001b[31m.local/share/Trash/info/training 1.txt.trashinfo\u001b[m\n",
      "\t\u001b[31m.local/share/Trash/info/training.txt.trashinfo\u001b[m\n",
      "\t\u001b[31m.local/share/Trash/info/validation.txt.trashinfo\u001b[m\n",
      "\n",
      "no changes added to commit (use \"git add\" and/or \"git commit -a\")\n"
     ]
    }
   ],
   "source": [
    "!git status"
   ]
  },
  {
   "cell_type": "code",
   "execution_count": 26,
   "metadata": {},
   "outputs": [
    {
     "name": "stdout",
     "output_type": "stream",
     "text": [
      "Reinitialized existing Git repository in /root/.git/\n"
     ]
    }
   ],
   "source": [
    "!git init"
   ]
  },
  {
   "cell_type": "code",
   "execution_count": 27,
   "metadata": {},
   "outputs": [
    {
     "name": "stdout",
     "output_type": "stream",
     "text": [
      "^C\n"
     ]
    }
   ],
   "source": [
    "!git add ."
   ]
  },
  {
   "cell_type": "code",
   "execution_count": 28,
   "metadata": {},
   "outputs": [
    {
     "name": "stdout",
     "output_type": "stream",
     "text": [
      "On branch master\n",
      "Changes not staged for commit:\n",
      "  (use \"git add/rm <file>...\" to update what will be committed)\n",
      "  (use \"git checkout -- <file>...\" to discard changes in working directory)\n",
      "\n",
      "\t\u001b[31mmodified:   .ipython/profile_default/history.sqlite\u001b[m\n",
      "\t\u001b[31mmodified:   .jupyter/lab/workspaces/lab-a511.jupyterlab-workspace\u001b[m\n",
      "\t\u001b[31mmodified:   .local/share/jupyter/nbsignatures.db\u001b[m\n",
      "\t\u001b[31mmodified:   Untitled4.ipynb\u001b[m\n",
      "\t\u001b[31mdeleted:    opt/ml/processing/train/training.txt\u001b[m\n",
      "\n",
      "Untracked files:\n",
      "  (use \"git add <file>...\" to include in what will be committed)\n",
      "\n",
      "\t\u001b[31m.gitconfig\u001b[m\n",
      "\t\u001b[31m.local/share/Trash/files/household_power_consumption.txt\u001b[m\n",
      "\t\u001b[31m.local/share/Trash/files/training 1.txt\u001b[m\n",
      "\t\u001b[31m.local/share/Trash/files/training.txt\u001b[m\n",
      "\t\u001b[31m.local/share/Trash/files/validation.txt\u001b[m\n",
      "\t\u001b[31m.local/share/Trash/info/Untitled Folder.trashinfo\u001b[m\n",
      "\t\u001b[31m.local/share/Trash/info/household_power_consumption.txt.trashinfo\u001b[m\n",
      "\t\u001b[31m.local/share/Trash/info/training 1.txt.trashinfo\u001b[m\n",
      "\t\u001b[31m.local/share/Trash/info/training.txt.trashinfo\u001b[m\n",
      "\t\u001b[31m.local/share/Trash/info/validation.txt.trashinfo\u001b[m\n",
      "\n",
      "no changes added to commit (use \"git add\" and/or \"git commit -a\")\n"
     ]
    }
   ],
   "source": [
    "!git status"
   ]
  },
  {
   "cell_type": "code",
   "execution_count": 16,
   "metadata": {},
   "outputs": [
    {
     "name": "stdout",
     "output_type": "stream",
     "text": [
      "On branch master\n",
      "Changes not staged for commit:\n",
      "\t\u001b[31mmodified:   .ipython/profile_default/history.sqlite\u001b[m\n",
      "\t\u001b[31mmodified:   .local/share/jupyter/nbsignatures.db\u001b[m\n",
      "\t\u001b[31mmodified:   Untitled4.ipynb\u001b[m\n",
      "\t\u001b[31mdeleted:    opt/ml/processing/train/training.txt\u001b[m\n",
      "\n",
      "Untracked files:\n",
      "\t\u001b[31m.gitconfig\u001b[m\n",
      "\t\u001b[31m.local/share/Trash/files/household_power_consumption.txt\u001b[m\n",
      "\t\u001b[31m.local/share/Trash/files/training 1.txt\u001b[m\n",
      "\t\u001b[31m.local/share/Trash/files/training.txt\u001b[m\n",
      "\t\u001b[31m.local/share/Trash/files/validation.txt\u001b[m\n",
      "\t\u001b[31m.local/share/Trash/info/household_power_consumption.txt.trashinfo\u001b[m\n",
      "\t\u001b[31m.local/share/Trash/info/training 1.txt.trashinfo\u001b[m\n",
      "\t\u001b[31m.local/share/Trash/info/training.txt.trashinfo\u001b[m\n",
      "\t\u001b[31m.local/share/Trash/info/validation.txt.trashinfo\u001b[m\n",
      "\n",
      "no changes added to commit\n"
     ]
    }
   ],
   "source": [
    "!git commit -m \"Amazon Sagemaker\""
   ]
  },
  {
   "cell_type": "code",
   "execution_count": 17,
   "metadata": {},
   "outputs": [],
   "source": [
    "!git config --global user.email \"usaidahmedkalson@gmail.com\""
   ]
  },
  {
   "cell_type": "code",
   "execution_count": 18,
   "metadata": {},
   "outputs": [],
   "source": [
    "!git config --global user.name \"Usaid Ahmed\""
   ]
  },
  {
   "cell_type": "code",
   "execution_count": 19,
   "metadata": {},
   "outputs": [
    {
     "name": "stdout",
     "output_type": "stream",
     "text": [
      "On branch master\n",
      "Changes not staged for commit:\n",
      "\t\u001b[31mmodified:   .ipython/profile_default/history.sqlite\u001b[m\n",
      "\t\u001b[31mmodified:   .local/share/jupyter/nbsignatures.db\u001b[m\n",
      "\t\u001b[31mmodified:   Untitled4.ipynb\u001b[m\n",
      "\t\u001b[31mdeleted:    opt/ml/processing/train/training.txt\u001b[m\n",
      "\n",
      "Untracked files:\n",
      "\t\u001b[31m.gitconfig\u001b[m\n",
      "\t\u001b[31m.local/share/Trash/files/household_power_consumption.txt\u001b[m\n",
      "\t\u001b[31m.local/share/Trash/files/training 1.txt\u001b[m\n",
      "\t\u001b[31m.local/share/Trash/files/training.txt\u001b[m\n",
      "\t\u001b[31m.local/share/Trash/files/validation.txt\u001b[m\n",
      "\t\u001b[31m.local/share/Trash/info/household_power_consumption.txt.trashinfo\u001b[m\n",
      "\t\u001b[31m.local/share/Trash/info/training 1.txt.trashinfo\u001b[m\n",
      "\t\u001b[31m.local/share/Trash/info/training.txt.trashinfo\u001b[m\n",
      "\t\u001b[31m.local/share/Trash/info/validation.txt.trashinfo\u001b[m\n",
      "\n",
      "no changes added to commit\n"
     ]
    }
   ],
   "source": [
    "!git commit -m \"Amazon Sagemaker\""
   ]
  },
  {
   "cell_type": "code",
   "execution_count": 20,
   "metadata": {},
   "outputs": [
    {
     "name": "stdout",
     "output_type": "stream",
     "text": [
      "On branch master\n",
      "Changes not staged for commit:\n",
      "  (use \"git add/rm <file>...\" to update what will be committed)\n",
      "  (use \"git checkout -- <file>...\" to discard changes in working directory)\n",
      "\n",
      "\t\u001b[31mmodified:   .ipython/profile_default/history.sqlite\u001b[m\n",
      "\t\u001b[31mmodified:   .local/share/jupyter/nbsignatures.db\u001b[m\n",
      "\t\u001b[31mmodified:   Untitled4.ipynb\u001b[m\n",
      "\t\u001b[31mdeleted:    opt/ml/processing/train/training.txt\u001b[m\n",
      "\n",
      "Untracked files:\n",
      "  (use \"git add <file>...\" to include in what will be committed)\n",
      "\n",
      "\t\u001b[31m.gitconfig\u001b[m\n",
      "\t\u001b[31m.local/share/Trash/files/household_power_consumption.txt\u001b[m\n",
      "\t\u001b[31m.local/share/Trash/files/training 1.txt\u001b[m\n",
      "\t\u001b[31m.local/share/Trash/files/training.txt\u001b[m\n",
      "\t\u001b[31m.local/share/Trash/files/validation.txt\u001b[m\n",
      "\t\u001b[31m.local/share/Trash/info/household_power_consumption.txt.trashinfo\u001b[m\n",
      "\t\u001b[31m.local/share/Trash/info/training 1.txt.trashinfo\u001b[m\n",
      "\t\u001b[31m.local/share/Trash/info/training.txt.trashinfo\u001b[m\n",
      "\t\u001b[31m.local/share/Trash/info/validation.txt.trashinfo\u001b[m\n",
      "\n",
      "no changes added to commit (use \"git add\" and/or \"git commit -a\")\n"
     ]
    }
   ],
   "source": [
    "!git status"
   ]
  },
  {
   "cell_type": "code",
   "execution_count": 21,
   "metadata": {},
   "outputs": [
    {
     "name": "stdout",
     "output_type": "stream",
     "text": [
      "fatal: remote origin already exists.\n"
     ]
    }
   ],
   "source": [
    "!git remote add origin https://github.com/usaidahmed/Amazon-Sagemaker.git"
   ]
  },
  {
   "cell_type": "markdown",
   "metadata": {},
   "source": []
  },
  {
   "cell_type": "code",
   "execution_count": null,
   "metadata": {},
   "outputs": [],
   "source": []
  },
  {
   "cell_type": "code",
   "execution_count": 23,
   "metadata": {},
   "outputs": [
    {
     "name": "stdout",
     "output_type": "stream",
     "text": [
      "Username for 'https://github.com': ^C\n"
     ]
    }
   ],
   "source": [
    "!git push -u origin master"
   ]
  },
  {
   "cell_type": "code",
   "execution_count": 24,
   "metadata": {},
   "outputs": [
    {
     "name": "stdout",
     "output_type": "stream",
     "text": [
      "/bin/sh: 1: ^C: not found\n"
     ]
    }
   ],
   "source": [
    "!^C usaidahmedkalson@gmail.com"
   ]
  },
  {
   "cell_type": "code",
   "execution_count": 25,
   "metadata": {},
   "outputs": [
    {
     "name": "stdout",
     "output_type": "stream",
     "text": [
      "/bin/sh: 1: ^C: not found\n"
     ]
    }
   ],
   "source": [
    "!^C infinixpheonix11"
   ]
  },
  {
   "cell_type": "code",
   "execution_count": null,
   "metadata": {},
   "outputs": [],
   "source": []
  }
 ],
 "metadata": {
  "instance_type": "ml.t3.medium",
  "kernelspec": {
   "display_name": "Python 3 (Data Science)",
   "language": "python",
   "name": "python3__SAGEMAKER_INTERNAL__arn:aws:sagemaker:us-east-2:429704687514:image/datascience-1.0"
  },
  "language_info": {
   "codemirror_mode": {
    "name": "ipython",
    "version": 3
   },
   "file_extension": ".py",
   "mimetype": "text/x-python",
   "name": "python",
   "nbconvert_exporter": "python",
   "pygments_lexer": "ipython3",
   "version": "3.7.10"
  }
 },
 "nbformat": 4,
 "nbformat_minor": 4
}
