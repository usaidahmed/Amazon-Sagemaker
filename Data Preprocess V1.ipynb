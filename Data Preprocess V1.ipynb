{
 "cells": [
  {
   "cell_type": "code",
   "execution_count": 1,
   "metadata": {},
   "outputs": [],
   "source": [
    "import sagemaker\n",
    "session = sagemaker.Session()\n",
    "prefix = 'amazon-reviews-camera'\n",
    "input_data = session.upload_data(\n",
    "    path='/tmp/amazon_reviews_us_Camera_v1_00.tsv.gz',\n",
    "    key_prefix=prefix)"
   ]
  },
  {
   "cell_type": "code",
   "execution_count": 2,
   "metadata": {},
   "outputs": [],
   "source": [
    "from sagemaker.sklearn.processing import SKLearnProcessor\n",
    "sklearn_processor = SKLearnProcessor(\n",
    "    framework_version='0.20.0',\n",
    "    role= sagemaker.get_execution_role(),\n",
    "    instance_type='ml.c5.2xlarge',\n",
    "    instance_count=1)"
   ]
  },
  {
   "cell_type": "code",
   "execution_count": 5,
   "metadata": {},
   "outputs": [
    {
     "name": "stdout",
     "output_type": "stream",
     "text": [
      "\n",
      "Job Name:  sagemaker-scikit-learn-2021-04-17-14-56-34-111\n",
      "Inputs:  [{'InputName': 'input-1', 'AppManaged': False, 'S3Input': {'S3Uri': 's3://sagemaker-us-east-2-664224523979/amazon-reviews-camera/amazon_reviews_us_Camera_v1_00.tsv.gz', 'LocalPath': '/opt/ml/processing/input', 'S3DataType': 'S3Prefix', 'S3InputMode': 'File', 'S3DataDistributionType': 'FullyReplicated', 'S3CompressionType': 'None'}}, {'InputName': 'code', 'AppManaged': False, 'S3Input': {'S3Uri': 's3://sagemaker-us-east-2-664224523979/sagemaker-scikit-learn-2021-04-17-14-56-34-111/input/code/Data Processing-Blazing-Fast-V1.py', 'LocalPath': '/opt/ml/processing/input/code', 'S3DataType': 'S3Prefix', 'S3InputMode': 'File', 'S3DataDistributionType': 'FullyReplicated', 'S3CompressionType': 'None'}}]\n",
      "Outputs:  [{'OutputName': 'train_data', 'AppManaged': False, 'S3Output': {'S3Uri': 's3://sagemaker-us-east-2-664224523979/sagemaker-scikit-learn-2021-04-17-14-56-34-111/output/train_data', 'LocalPath': '/opt/ml/processing/train', 'S3UploadMode': 'EndOfJob'}}, {'OutputName': 'validation_data', 'AppManaged': False, 'S3Output': {'S3Uri': 's3://sagemaker-us-east-2-664224523979/sagemaker-scikit-learn-2021-04-17-14-56-34-111/output/validation_data', 'LocalPath': '/opt/ml/processing/validation', 'S3UploadMode': 'EndOfJob'}}]\n",
      "...........................\n",
      ".."
     ]
    }
   ],
   "source": [
    "from sagemaker.processing import ProcessingInput,ProcessingOutput\n",
    "sklearn_processor.run(\n",
    "    code='Data Processing-Blazing-Fast-V1.py',\n",
    "    inputs=[\n",
    "        ProcessingInput(\n",
    "            source=input_data,\n",
    "            destination='/opt/ml/processing/input')\n",
    "    ],\n",
    "    outputs=[\n",
    "        ProcessingOutput(\n",
    "            output_name='train_data',\n",
    "            source='/opt/ml/processing/train'),\n",
    "        ProcessingOutput(\n",
    "            output_name='validation_data',\n",
    "            source='/opt/ml/processing/validation')\n",
    "    ],\n",
    "    arguments=[\n",
    "        '--filename',\n",
    "        'amazon_reviews_us_Camera_v1_00.tsv.gz',\n",
    "        '--num-reviews', '100000',\n",
    "        '--split-ratio', '0.05'\n",
    "    ]\n",
    ")"
   ]
  },
  {
   "cell_type": "code",
   "execution_count": null,
   "metadata": {},
   "outputs": [],
   "source": []
  }
 ],
 "metadata": {
  "instance_type": "ml.g4dn.xlarge",
  "kernelspec": {
   "display_name": "Python 3 (TensorFlow 2.3 Python 3.7 GPU Optimized)",
   "language": "python",
   "name": "python3__SAGEMAKER_INTERNAL__arn:aws:sagemaker:us-east-2:429704687514:image/tensorflow-2.3-gpu-py37-cu110-ubuntu18.04-v3"
  },
  "language_info": {
   "codemirror_mode": {
    "name": "ipython",
    "version": 3
   },
   "file_extension": ".py",
   "mimetype": "text/x-python",
   "name": "python",
   "nbconvert_exporter": "python",
   "pygments_lexer": "ipython3",
   "version": "3.7.10"
  }
 },
 "nbformat": 4,
 "nbformat_minor": 4
}
