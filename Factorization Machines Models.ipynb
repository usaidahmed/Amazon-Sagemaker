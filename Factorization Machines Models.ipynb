{
 "cells": [
  {
   "cell_type": "code",
   "execution_count": 2,
   "metadata": {},
   "outputs": [
    {
     "name": "stderr",
     "output_type": "stream",
     "text": [
      "--2021-04-07 07:56:41--  http://files.grouplens.org/datasets/movielens/ml-100k.zip\n",
      "Resolving files.grouplens.org (files.grouplens.org)... 128.101.65.152\n",
      "Connecting to files.grouplens.org (files.grouplens.org)|128.101.65.152|:80... connected.\n",
      "HTTP request sent, awaiting response... 200 OK\n",
      "Length: 4924029 (4.7M) [application/zip]\n",
      "Saving to: ‘ml-100k.zip.1’\n",
      "\n",
      "     0K .......... .......... .......... .......... ..........  1% 1.32M 4s\n",
      "    50K .......... .......... .......... .......... ..........  2% 2.29M 3s\n",
      "   100K .......... .......... .......... .......... ..........  3% 88.4M 2s\n",
      "   150K .......... .......... .......... .......... ..........  4%  164M 1s\n",
      "   200K .......... .......... .......... .......... ..........  5% 2.36M 1s\n",
      "   250K .......... .......... .......... .......... ..........  6% 86.9M 1s\n",
      "   300K .......... .......... .......... .......... ..........  7% 2.36M 1s\n",
      "   350K .......... .......... .......... .......... ..........  8% 60.7M 1s\n",
      "   400K .......... .......... .......... .......... ..........  9%  163M 1s\n",
      "   450K .......... .......... .......... .......... .......... 10%  132M 1s\n",
      "   500K .......... .......... .......... .......... .......... 11%  139M 1s\n",
      "   550K .......... .......... .......... .......... .......... 12%  129M 1s\n",
      "   600K .......... .......... .......... .......... .......... 13% 2.55M 1s\n",
      "   650K .......... .......... .......... .......... .......... 14%  158M 1s\n",
      "   700K .......... .......... .......... .......... .......... 15%  170M 1s\n",
      "   750K .......... .......... .......... .......... .......... 16% 64.9M 1s\n",
      "   800K .......... .......... .......... .......... .......... 17%  204M 1s\n",
      "   850K .......... .......... .......... .......... .......... 18%  138M 1s\n",
      "   900K .......... .......... .......... .......... .......... 19%  110M 1s\n",
      "   950K .......... .......... .......... .......... .......... 20%  147M 0s\n",
      "  1000K .......... .......... .......... .......... .......... 21%  172M 0s\n",
      "  1050K .......... .......... .......... .......... .......... 22%  151M 0s\n",
      "  1100K .......... .......... .......... .......... .......... 23%  132M 0s\n",
      "  1150K .......... .......... .......... .......... .......... 24%  173M 0s\n",
      "  1200K .......... .......... .......... .......... .......... 25%  140M 0s\n",
      "  1250K .......... .......... .......... .......... .......... 27% 2.82M 0s\n",
      "  1300K .......... .......... .......... .......... .......... 28%  169M 0s\n",
      "  1350K .......... .......... .......... .......... .......... 29%  313M 0s\n",
      "  1400K .......... .......... .......... .......... .......... 30% 81.6M 0s\n",
      "  1450K .......... .......... .......... .......... .......... 31%  127M 0s\n",
      "  1500K .......... .......... .......... .......... .......... 32% 77.2M 0s\n",
      "  1550K .......... .......... .......... .......... .......... 33%  152M 0s\n",
      "  1600K .......... .......... .......... .......... .......... 34%  140M 0s\n",
      "  1650K .......... .......... .......... .......... .......... 35% 93.1M 0s\n",
      "  1700K .......... .......... .......... .......... .......... 36%  178M 0s\n",
      "  1750K .......... .......... .......... .......... .......... 37%  275M 0s\n",
      "  1800K .......... .......... .......... .......... .......... 38%  147M 0s\n",
      "  1850K .......... .......... .......... .......... .......... 39%  163M 0s\n",
      "  1900K .......... .......... .......... .......... .......... 40%  143M 0s\n",
      "  1950K .......... .......... .......... .......... .......... 41%  109M 0s\n",
      "  2000K .......... .......... .......... .......... .......... 42%  193M 0s\n",
      "  2050K .......... .......... .......... .......... .......... 43%  164M 0s\n",
      "  2100K .......... .......... .......... .......... .......... 44%  145M 0s\n",
      "  2150K .......... .......... .......... .......... .......... 45%  104M 0s\n",
      "  2200K .......... .......... .......... .......... .......... 46%  162M 0s\n",
      "  2250K .......... .......... .......... .......... .......... 47%  174M 0s\n",
      "  2300K .......... .......... .......... .......... .......... 48%  147M 0s\n",
      "  2350K .......... .......... .......... .......... .......... 49%  184M 0s\n",
      "  2400K .......... .......... .......... .......... .......... 50%  142M 0s\n",
      "  2450K .......... .......... .......... .......... .......... 51%  154M 0s\n",
      "  2500K .......... .......... .......... .......... .......... 53%  194M 0s\n",
      "  2550K .......... .......... .......... .......... .......... 54% 3.79M 0s\n",
      "  2600K .......... .......... .......... .......... .......... 55%  161M 0s\n",
      "  2650K .......... .......... .......... .......... .......... 56%  148M 0s\n",
      "  2700K .......... .......... .......... .......... .......... 57%  137M 0s\n",
      "  2750K .......... .......... .......... .......... .......... 58%  140M 0s\n",
      "  2800K .......... .......... .......... .......... .......... 59%  132M 0s\n",
      "  2850K .......... .......... .......... .......... .......... 60%  168M 0s\n",
      "  2900K .......... .......... .......... .......... .......... 61%  159M 0s\n",
      "  2950K .......... .......... .......... .......... .......... 62%  193M 0s\n",
      "  3000K .......... .......... .......... .......... .......... 63%  127M 0s\n",
      "  3050K .......... .......... .......... .......... .......... 64%  139M 0s\n",
      "  3100K .......... .......... .......... .......... .......... 65%  114M 0s\n",
      "  3150K .......... .......... .......... .......... .......... 66%  171M 0s\n",
      "  3200K .......... .......... .......... .......... .......... 67%  154M 0s\n",
      "  3250K .......... .......... .......... .......... .......... 68%  162M 0s\n",
      "  3300K .......... .......... .......... .......... .......... 69%  123M 0s\n",
      "  3350K .......... .......... .......... .......... .......... 70%  133M 0s\n",
      "  3400K .......... .......... .......... .......... .......... 71%  175M 0s\n",
      "  3450K .......... .......... .......... .......... .......... 72%  163M 0s\n",
      "  3500K .......... .......... .......... .......... .......... 73%  126M 0s\n",
      "  3550K .......... .......... .......... .......... .......... 74%  132M 0s\n",
      "  3600K .......... .......... .......... .......... .......... 75%  171M 0s\n",
      "  3650K .......... .......... .......... .......... .......... 76%  113M 0s\n",
      "  3700K .......... .......... .......... .......... .......... 77%  130M 0s\n",
      "  3750K .......... .......... .......... .......... .......... 79%  150M 0s\n",
      "  3800K .......... .......... .......... .......... .......... 80%  149M 0s\n",
      "  3850K .......... .......... .......... .......... .......... 81%  181M 0s\n",
      "  3900K .......... .......... .......... .......... .......... 82%  104M 0s\n",
      "  3950K .......... .......... .......... .......... .......... 83%  241M 0s\n",
      "  4000K .......... .......... .......... .......... .......... 84%  108M 0s\n",
      "  4050K .......... .......... .......... .......... .......... 85% 4.28M 0s\n",
      "  4100K .......... .......... .......... .......... .......... 86%  101M 0s\n",
      "  4150K .......... .......... .......... .......... .......... 87%  153M 0s\n",
      "  4200K .......... .......... .......... .......... .......... 88%  125M 0s\n",
      "  4250K .......... .......... .......... .......... .......... 89% 75.6M 0s\n",
      "  4300K .......... .......... .......... .......... .......... 90%  145M 0s\n",
      "  4350K .......... .......... .......... .......... .......... 91%  164M 0s\n",
      "  4400K .......... .......... .......... .......... .......... 92%  151M 0s\n",
      "  4450K .......... .......... .......... .......... .......... 93% 83.0M 0s\n",
      "  4500K .......... .......... .......... .......... .......... 94%  140M 0s\n",
      "  4550K .......... .......... .......... .......... .......... 95%  142M 0s\n",
      "  4600K .......... .......... .......... .......... .......... 96%  218M 0s\n",
      "  4650K .......... .......... .......... .......... .......... 97% 74.0M 0s\n",
      "  4700K .......... .......... .......... .......... .......... 98%  157M 0s\n",
      "  4750K .......... .......... .......... .......... .......... 99%  204M 0s\n",
      "  4800K ........                                              100%  259M=0.2s\n",
      "\n",
      "2021-04-07 07:56:41 (24.4 MB/s) - ‘ml-100k.zip.1’ saved [4924029/4924029]\n",
      "\n"
     ]
    }
   ],
   "source": [
    "%%sh\n",
    "wget http://files.grouplens.org/datasets/movielens/ml-100k.zip"
   ]
  },
  {
   "cell_type": "code",
   "execution_count": 3,
   "metadata": {},
   "outputs": [],
   "source": [
    "from zipfile import ZipFile\n",
    "zip = ZipFile('ml-100k.zip')\n",
    "zip.extractall()"
   ]
  },
  {
   "cell_type": "code",
   "execution_count": 4,
   "metadata": {},
   "outputs": [
    {
     "name": "stdout",
     "output_type": "stream",
     "text": [
      "/root/ml-100k\n",
      "916\t1070\t4\t880844202\n",
      "52\t288\t3\t882922454\n",
      "90\t18\t3\t891383687\n",
      "747\t428\t3\t888640046\n",
      "321\t709\t4\t879441308\n"
     ]
    }
   ],
   "source": [
    "%cd ml-100k\n",
    "!shuf ua.base -o ua.base.shuffled\n",
    "!head -5 ua.base.shuffled"
   ]
  },
  {
   "cell_type": "code",
   "execution_count": 5,
   "metadata": {},
   "outputs": [],
   "source": [
    "num_users = 943\n",
    "num_movies = 1682\n",
    "num_features = num_users+num_movies\n",
    "num_ratings_train = 90570\n",
    "num_ratings_test = 9430"
   ]
  },
  {
   "cell_type": "code",
   "execution_count": 6,
   "metadata": {},
   "outputs": [],
   "source": [
    "import csv\n",
    "import numpy as np\n",
    "from scipy.sparse import lil_matrix\n",
    "def loadDataset(filename, lines, columns):\n",
    "    X = lil_matrix((lines, columns)).astype('float32')\n",
    "    Y = []\n",
    "    line=0\n",
    "    with open(filename,'r') as f:\n",
    "        samples=csv.reader(f,delimiter='\\t')\n",
    "        for userId,movieId,rating,timestamp in samples:\n",
    "            X[line,int(userId)-1] = 1\n",
    "            X[line,int(num_users)+int(movieId)-1] = 1\n",
    "            Y.append(int(rating))\n",
    "            line=line+1\n",
    "    Y=np.array(Y).astype('float32')\n",
    "    return X,Y"
   ]
  },
  {
   "cell_type": "code",
   "execution_count": 7,
   "metadata": {},
   "outputs": [],
   "source": [
    "X_train, Y_train = loadDataset('ua.base.shuffled',\n",
    "                               num_ratings_train,\n",
    "                               num_features)\n",
    "X_test, Y_test = loadDataset('ua.test',\n",
    "                             num_ratings_test,\n",
    "                             num_features)"
   ]
  },
  {
   "cell_type": "code",
   "execution_count": 8,
   "metadata": {},
   "outputs": [
    {
     "name": "stdout",
     "output_type": "stream",
     "text": [
      "(90570, 2625)\n",
      "(90570,)\n",
      "(9430, 2625)\n",
      "(9430,)\n"
     ]
    }
   ],
   "source": [
    "print(X_train.shape)\n",
    "print(Y_train.shape)\n",
    "print(X_test.shape)\n",
    "print(Y_test.shape)"
   ]
  },
  {
   "cell_type": "code",
   "execution_count": 11,
   "metadata": {},
   "outputs": [],
   "source": [
    "import io, boto3\n",
    "import sagemaker.amazon.common as smac\n",
    "def writeDatasetToProtobuf(X, Y, bucket, prefix, key):\n",
    "    buf = io.BytesIO()\n",
    "    smac.write_spmatrix_to_sparse_tensor(buf, X, Y)\n",
    "    buf.seek(0)\n",
    "    obj = '{}/{}'.format(prefix, key)\n",
    "    boto3.resource('s3').Bucket(bucket).Object(obj).upload_fileobj(buf)\n",
    "    return 's3://{}/{}'.format(bucket,obj)"
   ]
  },
  {
   "cell_type": "code",
   "execution_count": 12,
   "metadata": {},
   "outputs": [],
   "source": [
    "import sagemaker\n",
    "\n",
    "bucket = sagemaker.Session().default_bucket()\n",
    "\n",
    "prefix = 'fm-movielens'\n",
    "\n",
    "train_key = 'train.protobuf'\n",
    "\n",
    "train_prefix = '{}/{}'.format(prefix, 'train')\n",
    "\n",
    "test_key = 'test.protobuf'\n",
    "\n",
    "test_prefix = '{}/{}'.format(prefix, 'test')"
   ]
  },
  {
   "cell_type": "code",
   "execution_count": 13,
   "metadata": {},
   "outputs": [],
   "source": [
    "output_prefix = 's3://{}/{}/output'.format(bucket,prefix)\n",
    "train_data = writeDatasetToProtobuf(X_train, Y_train,bucket, train_prefix, train_key)\n",
    "test_data = writeDatasetToProtobuf(X_test, Y_test,bucket, test_prefix, test_key)"
   ]
  },
  {
   "cell_type": "code",
   "execution_count": 14,
   "metadata": {},
   "outputs": [],
   "source": [
    "from sagemaker import image_uris\n",
    "region=boto3.Session().region_name\n",
    "container=image_uris.retrieve('factorization-machines',region)\n",
    "\n",
    "fm=sagemaker.estimator.Estimator(\n",
    "    container,\n",
    "    role=sagemaker.get_execution_role(),\n",
    "    instance_count=1,\n",
    "    instance_type='ml.m5.xlarge',\n",
    "    output_path=output_prefix)\n",
    "\n",
    "fm.set_hyperparameters(\n",
    "    feature_dim=num_features,\n",
    "    predictor_type='regressor',\n",
    "    num_factors=64,\n",
    "    epochs=10)"
   ]
  },
  {
   "cell_type": "code",
   "execution_count": 15,
   "metadata": {},
   "outputs": [
    {
     "name": "stdout",
     "output_type": "stream",
     "text": [
      "2021-04-07 08:08:03 Starting - Starting the training job...\n",
      "2021-04-07 08:08:26 Starting - Launching requested ML instancesProfilerReport-1617782882: InProgress\n",
      "......\n",
      "2021-04-07 08:09:28 Starting - Preparing the instances for training......\n",
      "2021-04-07 08:10:26 Downloading - Downloading input data\n",
      "2021-04-07 08:10:26 Training - Downloading the training image..\n",
      "2021-04-07 08:10:56 Uploading - Uploading generated training model\u001b[34mDocker entrypoint called with argument(s): train\u001b[0m\n",
      "\u001b[34mRunning default environment configuration script\u001b[0m\n",
      "\u001b[34m/opt/amazon/lib/python3.7/site-packages/jsonref.py:8: DeprecationWarning: Using or importing the ABCs from 'collections' instead of from 'collections.abc' is deprecated since Python 3.3,and in 3.9 it will stop working\n",
      "  from collections import Mapping, MutableMapping, Sequence\u001b[0m\n",
      "\u001b[34m/opt/amazon/lib/python3.7/site-packages/algorithm/network_builder.py:87: DeprecationWarning: invalid escape sequence \\s\n",
      "  \"\"\"\u001b[0m\n",
      "\u001b[34m/opt/amazon/lib/python3.7/site-packages/algorithm/network_builder.py:120: DeprecationWarning: invalid escape sequence \\s\n",
      "  \"\"\"\u001b[0m\n",
      "\u001b[34m[04/07/2021 08:10:47 INFO 140665436149568] Reading default configuration from /opt/amazon/lib/python3.7/site-packages/algorithm/resources/default-conf.json: {'epochs': 1, 'mini_batch_size': '1000', 'use_bias': 'true', 'use_linear': 'true', 'bias_lr': '0.1', 'linear_lr': '0.001', 'factors_lr': '0.0001', 'bias_wd': '0.01', 'linear_wd': '0.001', 'factors_wd': '0.00001', 'bias_init_method': 'normal', 'bias_init_sigma': '0.01', 'linear_init_method': 'normal', 'linear_init_sigma': '0.01', 'factors_init_method': 'normal', 'factors_init_sigma': '0.001', 'batch_metrics_publish_interval': '500', '_data_format': 'record', '_kvstore': 'auto', '_learning_rate': '1.0', '_log_level': 'info', '_num_gpus': 'auto', '_num_kv_servers': 'auto', '_optimizer': 'adam', '_tuning_objective_metric': '', '_use_full_symbolic': 'true', '_wd': '1.0'}\u001b[0m\n",
      "\u001b[34m[04/07/2021 08:10:47 INFO 140665436149568] Merging with provided configuration from /opt/ml/input/config/hyperparameters.json: {'feature_dim': '2625', 'predictor_type': 'regressor', 'num_factors': '64', 'epochs': '10'}\u001b[0m\n",
      "\u001b[34m[04/07/2021 08:10:47 INFO 140665436149568] Final configuration: {'epochs': '10', 'mini_batch_size': '1000', 'use_bias': 'true', 'use_linear': 'true', 'bias_lr': '0.1', 'linear_lr': '0.001', 'factors_lr': '0.0001', 'bias_wd': '0.01', 'linear_wd': '0.001', 'factors_wd': '0.00001', 'bias_init_method': 'normal', 'bias_init_sigma': '0.01', 'linear_init_method': 'normal', 'linear_init_sigma': '0.01', 'factors_init_method': 'normal', 'factors_init_sigma': '0.001', 'batch_metrics_publish_interval': '500', '_data_format': 'record', '_kvstore': 'auto', '_learning_rate': '1.0', '_log_level': 'info', '_num_gpus': 'auto', '_num_kv_servers': 'auto', '_optimizer': 'adam', '_tuning_objective_metric': '', '_use_full_symbolic': 'true', '_wd': '1.0', 'feature_dim': '2625', 'predictor_type': 'regressor', 'num_factors': '64'}\u001b[0m\n",
      "\u001b[34m[04/07/2021 08:10:47 WARNING 140665436149568] Loggers have already been setup.\u001b[0m\n",
      "\u001b[34mProcess 1 is a worker.\u001b[0m\n",
      "\u001b[34m[04/07/2021 08:10:47 INFO 140665436149568] Using default worker.\u001b[0m\n",
      "\u001b[34m[04/07/2021 08:10:47 INFO 140665436149568] Checkpoint loading and saving are disabled.\u001b[0m\n",
      "\u001b[34m[2021-04-07 08:10:47.203] [tensorio] [warning] TensorIO is already initialized; ignoring the initialization routine.\u001b[0m\n",
      "\u001b[34m[2021-04-07 08:10:47.207] [tensorio] [info] epoch_stats={\"data_pipeline\": \"/opt/ml/input/data/train\", \"epoch\": 0, \"duration\": 8, \"num_examples\": 1, \"num_bytes\": 64000}\u001b[0m\n",
      "\u001b[34m[04/07/2021 08:10:47 INFO 140665436149568] nvidia-smi took: 0.025195837020874023 secs to identify 0 gpus\u001b[0m\n",
      "\u001b[34m[04/07/2021 08:10:47 INFO 140665436149568] Number of GPUs being used: 0\u001b[0m\n",
      "\u001b[34m[04/07/2021 08:10:47 INFO 140665436149568] [Sparse network] Building a sparse network.\u001b[0m\n",
      "\u001b[34m[04/07/2021 08:10:47 INFO 140665436149568] Create Store: local\u001b[0m\n",
      "\u001b[34m#metrics {\"StartTime\": 1617783047.1991167, \"EndTime\": 1617783047.2444715, \"Dimensions\": {\"Algorithm\": \"factorization-machines\", \"Host\": \"algo-1\", \"Operation\": \"training\"}, \"Metrics\": {\"initialize.time\": {\"sum\": 38.41686248779297, \"count\": 1, \"min\": 38.41686248779297, \"max\": 38.41686248779297}}}\n",
      "\u001b[0m\n",
      "\u001b[34m#metrics {\"StartTime\": 1617783047.2445905, \"EndTime\": 1617783047.2446275, \"Dimensions\": {\"Algorithm\": \"factorization-machines\", \"Host\": \"algo-1\", \"Operation\": \"training\", \"Meta\": \"init_train_data_iter\"}, \"Metrics\": {\"Total Records Seen\": {\"sum\": 1000.0, \"count\": 1, \"min\": 1000, \"max\": 1000}, \"Total Batches Seen\": {\"sum\": 1.0, \"count\": 1, \"min\": 1, \"max\": 1}, \"Max Records Seen Between Resets\": {\"sum\": 1000.0, \"count\": 1, \"min\": 1000, \"max\": 1000}, \"Max Batches Seen Between Resets\": {\"sum\": 1.0, \"count\": 1, \"min\": 1, \"max\": 1}, \"Reset Count\": {\"sum\": 1.0, \"count\": 1, \"min\": 1, \"max\": 1}, \"Number of Records Since Last Reset\": {\"sum\": 0.0, \"count\": 1, \"min\": 0, \"max\": 0}, \"Number of Batches Since Last Reset\": {\"sum\": 0.0, \"count\": 1, \"min\": 0, \"max\": 0}}}\n",
      "\u001b[0m\n",
      "\u001b[34m[08:10:47] /opt/brazil-pkg-cache/packages/AIAlgorithmsMXNet/AIAlgorithmsMXNet-1.1.x.204326.0/AL2_x86_64/generic-flavor/src/src/kvstore/./kvstore_local.h:280: Warning: non-default weights detected during kvstore pull. This call has been ignored. Please make sure to use row_sparse_pull with row_ids.\u001b[0m\n",
      "\u001b[34m[08:10:47] /opt/brazil-pkg-cache/packages/AIAlgorithmsMXNet/AIAlgorithmsMXNet-1.1.x.204326.0/AL2_x86_64/generic-flavor/src/src/kvstore/./kvstore_local.h:280: Warning: non-default weights detected during kvstore pull. This call has been ignored. Please make sure to use row_sparse_pull with row_ids.\u001b[0m\n",
      "\u001b[34m[04/07/2021 08:10:47 INFO 140665436149568] #quality_metric: host=algo-1, epoch=0, batch=0 train rmse <loss>=3.629339939773829\u001b[0m\n",
      "\u001b[34m[04/07/2021 08:10:47 INFO 140665436149568] #quality_metric: host=algo-1, epoch=0, batch=0 train mse <loss>=13.1721083984375\u001b[0m\n",
      "\u001b[34m[04/07/2021 08:10:47 INFO 140665436149568] #quality_metric: host=algo-1, epoch=0, batch=0 train absolute_loss <loss>=3.44416455078125\u001b[0m\n",
      "\u001b[34m[2021-04-07 08:10:47.869] [tensorio] [info] epoch_stats={\"data_pipeline\": \"/opt/ml/input/data/train\", \"epoch\": 2, \"duration\": 603, \"num_examples\": 91, \"num_bytes\": 5796480}\u001b[0m\n",
      "\u001b[34m[04/07/2021 08:10:47 INFO 140665436149568] #quality_metric: host=algo-1, epoch=0, train rmse <loss>=1.7412283854961672\u001b[0m\n",
      "\u001b[34m[04/07/2021 08:10:47 INFO 140665436149568] #quality_metric: host=algo-1, epoch=0, train mse <loss>=3.031876290457589\u001b[0m\n",
      "\u001b[34m[04/07/2021 08:10:47 INFO 140665436149568] #quality_metric: host=algo-1, epoch=0, train absolute_loss <loss>=1.3822430393093235\u001b[0m\n",
      "\u001b[34m#metrics {\"StartTime\": 1617783047.2445452, \"EndTime\": 1617783047.870121, \"Dimensions\": {\"Algorithm\": \"factorization-machines\", \"Host\": \"algo-1\", \"Operation\": \"training\"}, \"Metrics\": {\"epochs\": {\"sum\": 10.0, \"count\": 1, \"min\": 10, \"max\": 10}, \"update.time\": {\"sum\": 625.2634525299072, \"count\": 1, \"min\": 625.2634525299072, \"max\": 625.2634525299072}}}\n",
      "\u001b[0m\n",
      "\u001b[34m[04/07/2021 08:10:47 INFO 140665436149568] #progress_metric: host=algo-1, completed 10.0 % of epochs\u001b[0m\n",
      "\u001b[34m#metrics {\"StartTime\": 1617783047.2448256, \"EndTime\": 1617783047.870377, \"Dimensions\": {\"Algorithm\": \"factorization-machines\", \"Host\": \"algo-1\", \"Operation\": \"training\", \"epoch\": 0, \"Meta\": \"training_data_iter\"}, \"Metrics\": {\"Total Records Seen\": {\"sum\": 91570.0, \"count\": 1, \"min\": 91570, \"max\": 91570}, \"Total Batches Seen\": {\"sum\": 92.0, \"count\": 1, \"min\": 92, \"max\": 92}, \"Max Records Seen Between Resets\": {\"sum\": 90570.0, \"count\": 1, \"min\": 90570, \"max\": 90570}, \"Max Batches Seen Between Resets\": {\"sum\": 91.0, \"count\": 1, \"min\": 91, \"max\": 91}, \"Reset Count\": {\"sum\": 2.0, \"count\": 1, \"min\": 2, \"max\": 2}, \"Number of Records Since Last Reset\": {\"sum\": 90570.0, \"count\": 1, \"min\": 90570, \"max\": 90570}, \"Number of Batches Since Last Reset\": {\"sum\": 91.0, \"count\": 1, \"min\": 91, \"max\": 91}}}\n",
      "\u001b[0m\n",
      "\u001b[34m[04/07/2021 08:10:47 INFO 140665436149568] #throughput_metric: host=algo-1, train throughput=144759.80958739363 records/second\u001b[0m\n",
      "\u001b[34m[04/07/2021 08:10:47 INFO 140665436149568] #quality_metric: host=algo-1, epoch=1, batch=0 train rmse <loss>=1.1348524197658643\u001b[0m\n",
      "\u001b[34m[04/07/2021 08:10:47 INFO 140665436149568] #quality_metric: host=algo-1, epoch=1, batch=0 train mse <loss>=1.2878900146484376\u001b[0m\n",
      "\u001b[34m[04/07/2021 08:10:47 INFO 140665436149568] #quality_metric: host=algo-1, epoch=1, batch=0 train absolute_loss <loss>=0.9564219360351562\u001b[0m\n",
      "\u001b[34m[2021-04-07 08:10:48.621] [tensorio] [info] epoch_stats={\"data_pipeline\": \"/opt/ml/input/data/train\", \"epoch\": 4, \"duration\": 749, \"num_examples\": 91, \"num_bytes\": 5796480}\u001b[0m\n",
      "\u001b[34m[04/07/2021 08:10:48 INFO 140665436149568] #quality_metric: host=algo-1, epoch=1, train rmse <loss>=1.1314292295769264\u001b[0m\n",
      "\u001b[34m[04/07/2021 08:10:48 INFO 140665436149568] #quality_metric: host=algo-1, epoch=1, train mse <loss>=1.2801321015410372\u001b[0m\n",
      "\u001b[34m[04/07/2021 08:10:48 INFO 140665436149568] #quality_metric: host=algo-1, epoch=1, train absolute_loss <loss>=0.9464576919052627\u001b[0m\n",
      "\u001b[34m#metrics {\"StartTime\": 1617783047.8701994, \"EndTime\": 1617783048.6221607, \"Dimensions\": {\"Algorithm\": \"factorization-machines\", \"Host\": \"algo-1\", \"Operation\": \"training\"}, \"Metrics\": {\"update.time\": {\"sum\": 751.1856555938721, \"count\": 1, \"min\": 751.1856555938721, \"max\": 751.1856555938721}}}\n",
      "\u001b[0m\n",
      "\u001b[34m[04/07/2021 08:10:48 INFO 140665436149568] #progress_metric: host=algo-1, completed 20.0 % of epochs\u001b[0m\n",
      "\u001b[34m#metrics {\"StartTime\": 1617783047.8709478, \"EndTime\": 1617783048.6223905, \"Dimensions\": {\"Algorithm\": \"factorization-machines\", \"Host\": \"algo-1\", \"Operation\": \"training\", \"epoch\": 1, \"Meta\": \"training_data_iter\"}, \"Metrics\": {\"Total Records Seen\": {\"sum\": 182140.0, \"count\": 1, \"min\": 182140, \"max\": 182140}, \"Total Batches Seen\": {\"sum\": 183.0, \"count\": 1, \"min\": 183, \"max\": 183}, \"Max Records Seen Between Resets\": {\"sum\": 90570.0, \"count\": 1, \"min\": 90570, \"max\": 90570}, \"Max Batches Seen Between Resets\": {\"sum\": 91.0, \"count\": 1, \"min\": 91, \"max\": 91}, \"Reset Count\": {\"sum\": 3.0, \"count\": 1, \"min\": 3, \"max\": 3}, \"Number of Records Since Last Reset\": {\"sum\": 90570.0, \"count\": 1, \"min\": 90570, \"max\": 90570}, \"Number of Batches Since Last Reset\": {\"sum\": 91.0, \"count\": 1, \"min\": 91, \"max\": 91}}}\n",
      "\u001b[0m\n",
      "\u001b[34m[04/07/2021 08:10:48 INFO 140665436149568] #throughput_metric: host=algo-1, train throughput=120509.4213977297 records/second\u001b[0m\n",
      "\u001b[34m[04/07/2021 08:10:48 INFO 140665436149568] #quality_metric: host=algo-1, epoch=2, batch=0 train rmse <loss>=1.1169127721648633\u001b[0m\n",
      "\u001b[34m[04/07/2021 08:10:48 INFO 140665436149568] #quality_metric: host=algo-1, epoch=2, batch=0 train mse <loss>=1.247494140625\u001b[0m\n",
      "\u001b[34m[04/07/2021 08:10:48 INFO 140665436149568] #quality_metric: host=algo-1, epoch=2, batch=0 train absolute_loss <loss>=0.9407506103515625\u001b[0m\n",
      "\u001b[34m[2021-04-07 08:10:49.352] [tensorio] [info] epoch_stats={\"data_pipeline\": \"/opt/ml/input/data/train\", \"epoch\": 6, \"duration\": 728, \"num_examples\": 91, \"num_bytes\": 5796480}\u001b[0m\n",
      "\u001b[34m[04/07/2021 08:10:49 INFO 140665436149568] #quality_metric: host=algo-1, epoch=2, train rmse <loss>=1.1134920762636604\u001b[0m\n",
      "\u001b[34m[04/07/2021 08:10:49 INFO 140665436149568] #quality_metric: host=algo-1, epoch=2, train mse <loss>=1.2398646039019574\u001b[0m\n",
      "\u001b[34m[04/07/2021 08:10:49 INFO 140665436149568] #quality_metric: host=algo-1, epoch=2, train absolute_loss <loss>=0.9294955222999657\u001b[0m\n",
      "\u001b[34m#metrics {\"StartTime\": 1617783048.622229, \"EndTime\": 1617783049.3533325, \"Dimensions\": {\"Algorithm\": \"factorization-machines\", \"Host\": \"algo-1\", \"Operation\": \"training\"}, \"Metrics\": {\"update.time\": {\"sum\": 730.3035259246826, \"count\": 1, \"min\": 730.3035259246826, \"max\": 730.3035259246826}}}\n",
      "\u001b[0m\n",
      "\u001b[34m[04/07/2021 08:10:49 INFO 140665436149568] #progress_metric: host=algo-1, completed 30.0 % of epochs\u001b[0m\n",
      "\u001b[34m#metrics {\"StartTime\": 1617783048.6230006, \"EndTime\": 1617783049.3535502, \"Dimensions\": {\"Algorithm\": \"factorization-machines\", \"Host\": \"algo-1\", \"Operation\": \"training\", \"epoch\": 2, \"Meta\": \"training_data_iter\"}, \"Metrics\": {\"Total Records Seen\": {\"sum\": 272710.0, \"count\": 1, \"min\": 272710, \"max\": 272710}, \"Total Batches Seen\": {\"sum\": 274.0, \"count\": 1, \"min\": 274, \"max\": 274}, \"Max Records Seen Between Resets\": {\"sum\": 90570.0, \"count\": 1, \"min\": 90570, \"max\": 90570}, \"Max Batches Seen Between Resets\": {\"sum\": 91.0, \"count\": 1, \"min\": 91, \"max\": 91}, \"Reset Count\": {\"sum\": 4.0, \"count\": 1, \"min\": 4, \"max\": 4}, \"Number of Records Since Last Reset\": {\"sum\": 90570.0, \"count\": 1, \"min\": 90570, \"max\": 90570}, \"Number of Batches Since Last Reset\": {\"sum\": 91.0, \"count\": 1, \"min\": 91, \"max\": 91}}}\n",
      "\u001b[0m\n",
      "\u001b[34m[04/07/2021 08:10:49 INFO 140665436149568] #throughput_metric: host=algo-1, train throughput=123954.08353531279 records/second\u001b[0m\n",
      "\u001b[34m[04/07/2021 08:10:49 INFO 140665436149568] #quality_metric: host=algo-1, epoch=3, batch=0 train rmse <loss>=1.0973403682490963\u001b[0m\n",
      "\u001b[34m[04/07/2021 08:10:49 INFO 140665436149568] #quality_metric: host=algo-1, epoch=3, batch=0 train mse <loss>=1.2041558837890625\u001b[0m\n",
      "\u001b[34m[04/07/2021 08:10:49 INFO 140665436149568] #quality_metric: host=algo-1, epoch=3, batch=0 train absolute_loss <loss>=0.9217711791992188\u001b[0m\n",
      "\u001b[34m[2021-04-07 08:10:50.042] [tensorio] [info] epoch_stats={\"data_pipeline\": \"/opt/ml/input/data/train\", \"epoch\": 8, \"duration\": 686, \"num_examples\": 91, \"num_bytes\": 5796480}\u001b[0m\n",
      "\u001b[34m[04/07/2021 08:10:50 INFO 140665436149568] #quality_metric: host=algo-1, epoch=3, train rmse <loss>=1.094479286458866\u001b[0m\n",
      "\u001b[34m[04/07/2021 08:10:50 INFO 140665436149568] #quality_metric: host=algo-1, epoch=3, train mse <loss>=1.1978849084875085\u001b[0m\n",
      "\u001b[34m[04/07/2021 08:10:50 INFO 140665436149568] #quality_metric: host=algo-1, epoch=3, train absolute_loss <loss>=0.9105392261547046\u001b[0m\n",
      "\u001b[34m#metrics {\"StartTime\": 1617783049.3534017, \"EndTime\": 1617783050.0426304, \"Dimensions\": {\"Algorithm\": \"factorization-machines\", \"Host\": \"algo-1\", \"Operation\": \"training\"}, \"Metrics\": {\"update.time\": {\"sum\": 688.5244846343994, \"count\": 1, \"min\": 688.5244846343994, \"max\": 688.5244846343994}}}\n",
      "\u001b[0m\n",
      "\u001b[34m[04/07/2021 08:10:50 INFO 140665436149568] #progress_metric: host=algo-1, completed 40.0 % of epochs\u001b[0m\n",
      "\u001b[34m#metrics {\"StartTime\": 1617783049.3540764, \"EndTime\": 1617783050.0428488, \"Dimensions\": {\"Algorithm\": \"factorization-machines\", \"Host\": \"algo-1\", \"Operation\": \"training\", \"epoch\": 3, \"Meta\": \"training_data_iter\"}, \"Metrics\": {\"Total Records Seen\": {\"sum\": 363280.0, \"count\": 1, \"min\": 363280, \"max\": 363280}, \"Total Batches Seen\": {\"sum\": 365.0, \"count\": 1, \"min\": 365, \"max\": 365}, \"Max Records Seen Between Resets\": {\"sum\": 90570.0, \"count\": 1, \"min\": 90570, \"max\": 90570}, \"Max Batches Seen Between Resets\": {\"sum\": 91.0, \"count\": 1, \"min\": 91, \"max\": 91}, \"Reset Count\": {\"sum\": 5.0, \"count\": 1, \"min\": 5, \"max\": 5}, \"Number of Records Since Last Reset\": {\"sum\": 90570.0, \"count\": 1, \"min\": 90570, \"max\": 90570}, \"Number of Batches Since Last Reset\": {\"sum\": 91.0, \"count\": 1, \"min\": 91, \"max\": 91}}}\n",
      "\u001b[0m\n",
      "\u001b[34m[04/07/2021 08:10:50 INFO 140665436149568] #throughput_metric: host=algo-1, train throughput=131463.1817099573 records/second\u001b[0m\n",
      "\u001b[34m[04/07/2021 08:10:50 INFO 140665436149568] #quality_metric: host=algo-1, epoch=4, batch=0 train rmse <loss>=1.0769801439528726\u001b[0m\n",
      "\u001b[34m[04/07/2021 08:10:50 INFO 140665436149568] #quality_metric: host=algo-1, epoch=4, batch=0 train mse <loss>=1.15988623046875\u001b[0m\n",
      "\u001b[34m[04/07/2021 08:10:50 INFO 140665436149568] #quality_metric: host=algo-1, epoch=4, batch=0 train absolute_loss <loss>=0.9008826293945312\u001b[0m\n",
      "\u001b[34m[2021-04-07 08:10:50.683] [tensorio] [info] epoch_stats={\"data_pipeline\": \"/opt/ml/input/data/train\", \"epoch\": 10, \"duration\": 638, \"num_examples\": 91, \"num_bytes\": 5796480}\u001b[0m\n",
      "\u001b[34m[04/07/2021 08:10:50 INFO 140665436149568] #quality_metric: host=algo-1, epoch=4, train rmse <loss>=1.0753962118914302\u001b[0m\n",
      "\u001b[34m[04/07/2021 08:10:50 INFO 140665436149568] #quality_metric: host=algo-1, epoch=4, train mse <loss>=1.1564770125504378\u001b[0m\n",
      "\u001b[34m[04/07/2021 08:10:50 INFO 140665436149568] #quality_metric: host=algo-1, epoch=4, train absolute_loss <loss>=0.8903895505129636\u001b[0m\n",
      "\u001b[34m#metrics {\"StartTime\": 1617783050.0427096, \"EndTime\": 1617783050.6839955, \"Dimensions\": {\"Algorithm\": \"factorization-machines\", \"Host\": \"algo-1\", \"Operation\": \"training\"}, \"Metrics\": {\"update.time\": {\"sum\": 640.4778957366943, \"count\": 1, \"min\": 640.4778957366943, \"max\": 640.4778957366943}}}\n",
      "\u001b[0m\n",
      "\u001b[34m[04/07/2021 08:10:50 INFO 140665436149568] #progress_metric: host=algo-1, completed 50.0 % of epochs\u001b[0m\n",
      "\u001b[34m#metrics {\"StartTime\": 1617783050.0434883, \"EndTime\": 1617783050.6842234, \"Dimensions\": {\"Algorithm\": \"factorization-machines\", \"Host\": \"algo-1\", \"Operation\": \"training\", \"epoch\": 4, \"Meta\": \"training_data_iter\"}, \"Metrics\": {\"Total Records Seen\": {\"sum\": 453850.0, \"count\": 1, \"min\": 453850, \"max\": 453850}, \"Total Batches Seen\": {\"sum\": 456.0, \"count\": 1, \"min\": 456, \"max\": 456}, \"Max Records Seen Between Resets\": {\"sum\": 90570.0, \"count\": 1, \"min\": 90570, \"max\": 90570}, \"Max Batches Seen Between Resets\": {\"sum\": 91.0, \"count\": 1, \"min\": 91, \"max\": 91}, \"Reset Count\": {\"sum\": 6.0, \"count\": 1, \"min\": 6, \"max\": 6}, \"Number of Records Since Last Reset\": {\"sum\": 90570.0, \"count\": 1, \"min\": 90570, \"max\": 90570}, \"Number of Batches Since Last Reset\": {\"sum\": 91.0, \"count\": 1, \"min\": 91, \"max\": 91}}}\n",
      "\u001b[0m\n",
      "\u001b[34m[04/07/2021 08:10:50 INFO 140665436149568] #throughput_metric: host=algo-1, train throughput=141325.9636519483 records/second\u001b[0m\n",
      "\u001b[34m[04/07/2021 08:10:50 INFO 140665436149568] #quality_metric: host=algo-1, epoch=5, batch=0 train rmse <loss>=1.05710105783902\u001b[0m\n",
      "\u001b[34m[04/07/2021 08:10:50 INFO 140665436149568] #quality_metric: host=algo-1, epoch=5, batch=0 train mse <loss>=1.117462646484375\u001b[0m\n",
      "\u001b[34m[04/07/2021 08:10:50 INFO 140665436149568] #quality_metric: host=algo-1, epoch=5, batch=0 train absolute_loss <loss>=0.8793400268554687\u001b[0m\n",
      "\u001b[34m[2021-04-07 08:10:51.238] [tensorio] [info] epoch_stats={\"data_pipeline\": \"/opt/ml/input/data/train\", \"epoch\": 12, \"duration\": 552, \"num_examples\": 91, \"num_bytes\": 5796480}\u001b[0m\n",
      "\u001b[34m[04/07/2021 08:10:51 INFO 140665436149568] #quality_metric: host=algo-1, epoch=5, train rmse <loss>=1.0572852933960686\u001b[0m\n",
      "\u001b[34m[04/07/2021 08:10:51 INFO 140665436149568] #quality_metric: host=algo-1, epoch=5, train mse <loss>=1.1178521916316106\u001b[0m\n",
      "\u001b[34m[04/07/2021 08:10:51 INFO 140665436149568] #quality_metric: host=algo-1, epoch=5, train absolute_loss <loss>=0.8701322283063616\u001b[0m\n",
      "\u001b[34m#metrics {\"StartTime\": 1617783050.6840675, \"EndTime\": 1617783051.239322, \"Dimensions\": {\"Algorithm\": \"factorization-machines\", \"Host\": \"algo-1\", \"Operation\": \"training\"}, \"Metrics\": {\"update.time\": {\"sum\": 554.4610023498535, \"count\": 1, \"min\": 554.4610023498535, \"max\": 554.4610023498535}}}\n",
      "\u001b[0m\n",
      "\u001b[34m[04/07/2021 08:10:51 INFO 140665436149568] #progress_metric: host=algo-1, completed 60.0 % of epochs\u001b[0m\n",
      "\u001b[34m#metrics {\"StartTime\": 1617783050.684834, \"EndTime\": 1617783051.2395222, \"Dimensions\": {\"Algorithm\": \"factorization-machines\", \"Host\": \"algo-1\", \"Operation\": \"training\", \"epoch\": 5, \"Meta\": \"training_data_iter\"}, \"Metrics\": {\"Total Records Seen\": {\"sum\": 544420.0, \"count\": 1, \"min\": 544420, \"max\": 544420}, \"Total Batches Seen\": {\"sum\": 547.0, \"count\": 1, \"min\": 547, \"max\": 547}, \"Max Records Seen Between Resets\": {\"sum\": 90570.0, \"count\": 1, \"min\": 90570, \"max\": 90570}, \"Max Batches Seen Between Resets\": {\"sum\": 91.0, \"count\": 1, \"min\": 91, \"max\": 91}, \"Reset Count\": {\"sum\": 7.0, \"count\": 1, \"min\": 7, \"max\": 7}, \"Number of Records Since Last Reset\": {\"sum\": 90570.0, \"count\": 1, \"min\": 90570, \"max\": 90570}, \"Number of Batches Since Last Reset\": {\"sum\": 91.0, \"count\": 1, \"min\": 91, \"max\": 91}}}\n",
      "\u001b[0m\n",
      "\u001b[34m[04/07/2021 08:10:51 INFO 140665436149568] #throughput_metric: host=algo-1, train throughput=163249.7612909464 records/second\u001b[0m\n",
      "\u001b[34m[04/07/2021 08:10:51 INFO 140665436149568] #quality_metric: host=algo-1, epoch=6, batch=0 train rmse <loss>=1.0385680802078228\u001b[0m\n",
      "\u001b[34m[04/07/2021 08:10:51 INFO 140665436149568] #quality_metric: host=algo-1, epoch=6, batch=0 train mse <loss>=1.0786236572265624\u001b[0m\n",
      "\u001b[34m[04/07/2021 08:10:51 INFO 140665436149568] #quality_metric: host=algo-1, epoch=6, batch=0 train absolute_loss <loss>=0.8580816040039062\u001b[0m\n",
      "\u001b[34m[2021-04-07 08:10:51.818] [tensorio] [info] epoch_stats={\"data_pipeline\": \"/opt/ml/input/data/train\", \"epoch\": 14, \"duration\": 577, \"num_examples\": 91, \"num_bytes\": 5796480}\u001b[0m\n",
      "\u001b[34m[04/07/2021 08:10:51 INFO 140665436149568] #quality_metric: host=algo-1, epoch=6, train rmse <loss>=1.0407398366789151\u001b[0m\n",
      "\u001b[34m[04/07/2021 08:10:51 INFO 140665436149568] #quality_metric: host=algo-1, epoch=6, train mse <loss>=1.083139407650455\u001b[0m\n",
      "\u001b[34m[04/07/2021 08:10:51 INFO 140665436149568] #quality_metric: host=algo-1, epoch=6, train absolute_loss <loss>=0.8507838014036745\u001b[0m\n",
      "\u001b[34m#metrics {\"StartTime\": 1617783051.2393785, \"EndTime\": 1617783051.819285, \"Dimensions\": {\"Algorithm\": \"factorization-machines\", \"Host\": \"algo-1\", \"Operation\": \"training\"}, \"Metrics\": {\"update.time\": {\"sum\": 579.2207717895508, \"count\": 1, \"min\": 579.2207717895508, \"max\": 579.2207717895508}}}\n",
      "\u001b[0m\n",
      "\u001b[34m[04/07/2021 08:10:51 INFO 140665436149568] #progress_metric: host=algo-1, completed 70.0 % of epochs\u001b[0m\n",
      "\u001b[34m#metrics {\"StartTime\": 1617783051.2400355, \"EndTime\": 1617783051.8195295, \"Dimensions\": {\"Algorithm\": \"factorization-machines\", \"Host\": \"algo-1\", \"Operation\": \"training\", \"epoch\": 6, \"Meta\": \"training_data_iter\"}, \"Metrics\": {\"Total Records Seen\": {\"sum\": 634990.0, \"count\": 1, \"min\": 634990, \"max\": 634990}, \"Total Batches Seen\": {\"sum\": 638.0, \"count\": 1, \"min\": 638, \"max\": 638}, \"Max Records Seen Between Resets\": {\"sum\": 90570.0, \"count\": 1, \"min\": 90570, \"max\": 90570}, \"Max Batches Seen Between Resets\": {\"sum\": 91.0, \"count\": 1, \"min\": 91, \"max\": 91}, \"Reset Count\": {\"sum\": 8.0, \"count\": 1, \"min\": 8, \"max\": 8}, \"Number of Records Since Last Reset\": {\"sum\": 90570.0, \"count\": 1, \"min\": 90570, \"max\": 90570}, \"Number of Batches Since Last Reset\": {\"sum\": 91.0, \"count\": 1, \"min\": 91, \"max\": 91}}}\n",
      "\u001b[0m\n",
      "\u001b[34m[04/07/2021 08:10:51 INFO 140665436149568] #throughput_metric: host=algo-1, train throughput=156262.33563743404 records/second\u001b[0m\n",
      "\u001b[34m[04/07/2021 08:10:51 INFO 140665436149568] #quality_metric: host=algo-1, epoch=7, batch=0 train rmse <loss>=1.0218441795810895\u001b[0m\n",
      "\u001b[34m[04/07/2021 08:10:51 INFO 140665436149568] #quality_metric: host=algo-1, epoch=7, batch=0 train mse <loss>=1.04416552734375\u001b[0m\n",
      "\u001b[34m[04/07/2021 08:10:51 INFO 140665436149568] #quality_metric: host=algo-1, epoch=7, batch=0 train absolute_loss <loss>=0.838462646484375\u001b[0m\n",
      "\u001b[34m[2021-04-07 08:10:52.402] [tensorio] [info] epoch_stats={\"data_pipeline\": \"/opt/ml/input/data/train\", \"epoch\": 16, \"duration\": 580, \"num_examples\": 91, \"num_bytes\": 5796480}\u001b[0m\n",
      "\u001b[34m[04/07/2021 08:10:52 INFO 140665436149568] #quality_metric: host=algo-1, epoch=7, train rmse <loss>=1.0260203503598084\u001b[0m\n",
      "\u001b[34m[04/07/2021 08:10:52 INFO 140665436149568] #quality_metric: host=algo-1, epoch=7, train mse <loss>=1.052717759352464\u001b[0m\n",
      "\u001b[34m[04/07/2021 08:10:52 INFO 140665436149568] #quality_metric: host=algo-1, epoch=7, train absolute_loss <loss>=0.8333501164362981\u001b[0m\n",
      "\u001b[34m#metrics {\"StartTime\": 1617783051.81936, \"EndTime\": 1617783052.4027827, \"Dimensions\": {\"Algorithm\": \"factorization-machines\", \"Host\": \"algo-1\", \"Operation\": \"training\"}, \"Metrics\": {\"update.time\": {\"sum\": 582.7009677886963, \"count\": 1, \"min\": 582.7009677886963, \"max\": 582.7009677886963}}}\n",
      "\u001b[0m\n",
      "\u001b[34m[04/07/2021 08:10:52 INFO 140665436149568] #progress_metric: host=algo-1, completed 80.0 % of epochs\u001b[0m\n",
      "\u001b[34m#metrics {\"StartTime\": 1617783051.8200536, \"EndTime\": 1617783052.4030185, \"Dimensions\": {\"Algorithm\": \"factorization-machines\", \"Host\": \"algo-1\", \"Operation\": \"training\", \"epoch\": 7, \"Meta\": \"training_data_iter\"}, \"Metrics\": {\"Total Records Seen\": {\"sum\": 725560.0, \"count\": 1, \"min\": 725560, \"max\": 725560}, \"Total Batches Seen\": {\"sum\": 729.0, \"count\": 1, \"min\": 729, \"max\": 729}, \"Max Records Seen Between Resets\": {\"sum\": 90570.0, \"count\": 1, \"min\": 90570, \"max\": 90570}, \"Max Batches Seen Between Resets\": {\"sum\": 91.0, \"count\": 1, \"min\": 91, \"max\": 91}, \"Reset Count\": {\"sum\": 9.0, \"count\": 1, \"min\": 9, \"max\": 9}, \"Number of Records Since Last Reset\": {\"sum\": 90570.0, \"count\": 1, \"min\": 90570, \"max\": 90570}, \"Number of Batches Since Last Reset\": {\"sum\": 91.0, \"count\": 1, \"min\": 91, \"max\": 91}}}\n",
      "\u001b[0m\n",
      "\u001b[34m[04/07/2021 08:10:52 INFO 140665436149568] #throughput_metric: host=algo-1, train throughput=155331.3804149333 records/second\u001b[0m\n",
      "\u001b[34m[04/07/2021 08:10:52 INFO 140665436149568] #quality_metric: host=algo-1, epoch=8, batch=0 train rmse <loss>=1.0071004327961939\u001b[0m\n",
      "\u001b[34m[04/07/2021 08:10:52 INFO 140665436149568] #quality_metric: host=algo-1, epoch=8, batch=0 train mse <loss>=1.0142512817382812\u001b[0m\n",
      "\u001b[34m[04/07/2021 08:10:52 INFO 140665436149568] #quality_metric: host=algo-1, epoch=8, batch=0 train absolute_loss <loss>=0.8213858032226562\u001b[0m\n",
      "\u001b[34m[2021-04-07 08:10:53.008] [tensorio] [info] epoch_stats={\"data_pipeline\": \"/opt/ml/input/data/train\", \"epoch\": 18, \"duration\": 603, \"num_examples\": 91, \"num_bytes\": 5796480}\u001b[0m\n",
      "\u001b[34m[04/07/2021 08:10:53 INFO 140665436149568] #quality_metric: host=algo-1, epoch=8, train rmse <loss>=1.0131670784165516\u001b[0m\n",
      "\u001b[34m[04/07/2021 08:10:53 INFO 140665436149568] #quality_metric: host=algo-1, epoch=8, train mse <loss>=1.0265075287871308\u001b[0m\n",
      "\u001b[34m[04/07/2021 08:10:53 INFO 140665436149568] #quality_metric: host=algo-1, epoch=8, train absolute_loss <loss>=0.8184588260860234\u001b[0m\n",
      "\u001b[34m#metrics {\"StartTime\": 1617783052.4028473, \"EndTime\": 1617783053.0085945, \"Dimensions\": {\"Algorithm\": \"factorization-machines\", \"Host\": \"algo-1\", \"Operation\": \"training\"}, \"Metrics\": {\"update.time\": {\"sum\": 605.0586700439453, \"count\": 1, \"min\": 605.0586700439453, \"max\": 605.0586700439453}}}\n",
      "\u001b[0m\n",
      "\u001b[34m[04/07/2021 08:10:53 INFO 140665436149568] #progress_metric: host=algo-1, completed 90.0 % of epochs\u001b[0m\n",
      "\u001b[34m#metrics {\"StartTime\": 1617783052.4035122, \"EndTime\": 1617783053.0087888, \"Dimensions\": {\"Algorithm\": \"factorization-machines\", \"Host\": \"algo-1\", \"Operation\": \"training\", \"epoch\": 8, \"Meta\": \"training_data_iter\"}, \"Metrics\": {\"Total Records Seen\": {\"sum\": 816130.0, \"count\": 1, \"min\": 816130, \"max\": 816130}, \"Total Batches Seen\": {\"sum\": 820.0, \"count\": 1, \"min\": 820, \"max\": 820}, \"Max Records Seen Between Resets\": {\"sum\": 90570.0, \"count\": 1, \"min\": 90570, \"max\": 90570}, \"Max Batches Seen Between Resets\": {\"sum\": 91.0, \"count\": 1, \"min\": 91, \"max\": 91}, \"Reset Count\": {\"sum\": 10.0, \"count\": 1, \"min\": 10, \"max\": 10}, \"Number of Records Since Last Reset\": {\"sum\": 90570.0, \"count\": 1, \"min\": 90570, \"max\": 90570}, \"Number of Batches Since Last Reset\": {\"sum\": 91.0, \"count\": 1, \"min\": 91, \"max\": 91}}}\n",
      "\u001b[0m\n",
      "\u001b[34m[04/07/2021 08:10:53 INFO 140665436149568] #throughput_metric: host=algo-1, train throughput=149609.49761158443 records/second\u001b[0m\n",
      "\u001b[34m[04/07/2021 08:10:53 INFO 140665436149568] #quality_metric: host=algo-1, epoch=9, batch=0 train rmse <loss>=0.9943104748077937\u001b[0m\n",
      "\u001b[34m[04/07/2021 08:10:53 INFO 140665436149568] #quality_metric: host=algo-1, epoch=9, batch=0 train mse <loss>=0.9886533203125\u001b[0m\n",
      "\u001b[34m[04/07/2021 08:10:53 INFO 140665436149568] #quality_metric: host=algo-1, epoch=9, batch=0 train absolute_loss <loss>=0.8071478881835937\u001b[0m\n",
      "\u001b[34m[2021-04-07 08:10:53.602] [tensorio] [info] epoch_stats={\"data_pipeline\": \"/opt/ml/input/data/train\", \"epoch\": 20, \"duration\": 592, \"num_examples\": 91, \"num_bytes\": 5796480}\u001b[0m\n",
      "\u001b[34m[04/07/2021 08:10:53 INFO 140665436149568] #quality_metric: host=algo-1, epoch=9, train rmse <loss>=1.002082379623993\u001b[0m\n",
      "\u001b[34m[04/07/2021 08:10:53 INFO 140665436149568] #quality_metric: host=algo-1, epoch=9, train mse <loss>=1.0041690955528846\u001b[0m\n",
      "\u001b[34m[04/07/2021 08:10:53 INFO 140665436149568] #quality_metric: host=algo-1, epoch=9, train absolute_loss <loss>=0.8061630376459478\u001b[0m\n",
      "\u001b[34m[04/07/2021 08:10:53 INFO 140665436149568] #quality_metric: host=algo-1, train rmse <loss>=1.002082379623993\u001b[0m\n",
      "\u001b[34m[04/07/2021 08:10:53 INFO 140665436149568] #quality_metric: host=algo-1, train mse <loss>=1.0041690955528846\u001b[0m\n",
      "\u001b[34m[04/07/2021 08:10:53 INFO 140665436149568] #quality_metric: host=algo-1, train absolute_loss <loss>=0.8061630376459478\u001b[0m\n",
      "\u001b[34m#metrics {\"StartTime\": 1617783053.0086575, \"EndTime\": 1617783053.603304, \"Dimensions\": {\"Algorithm\": \"factorization-machines\", \"Host\": \"algo-1\", \"Operation\": \"training\"}, \"Metrics\": {\"update.time\": {\"sum\": 594.0196514129639, \"count\": 1, \"min\": 594.0196514129639, \"max\": 594.0196514129639}}}\n",
      "\u001b[0m\n",
      "\u001b[34m[04/07/2021 08:10:53 INFO 140665436149568] #progress_metric: host=algo-1, completed 100.0 % of epochs\u001b[0m\n",
      "\u001b[34m#metrics {\"StartTime\": 1617783053.0092623, \"EndTime\": 1617783053.6034539, \"Dimensions\": {\"Algorithm\": \"factorization-machines\", \"Host\": \"algo-1\", \"Operation\": \"training\", \"epoch\": 9, \"Meta\": \"training_data_iter\"}, \"Metrics\": {\"Total Records Seen\": {\"sum\": 906700.0, \"count\": 1, \"min\": 906700, \"max\": 906700}, \"Total Batches Seen\": {\"sum\": 911.0, \"count\": 1, \"min\": 911, \"max\": 911}, \"Max Records Seen Between Resets\": {\"sum\": 90570.0, \"count\": 1, \"min\": 90570, \"max\": 90570}, \"Max Batches Seen Between Resets\": {\"sum\": 91.0, \"count\": 1, \"min\": 91, \"max\": 91}, \"Reset Count\": {\"sum\": 11.0, \"count\": 1, \"min\": 11, \"max\": 11}, \"Number of Records Since Last Reset\": {\"sum\": 90570.0, \"count\": 1, \"min\": 90570, \"max\": 90570}, \"Number of Batches Since Last Reset\": {\"sum\": 91.0, \"count\": 1, \"min\": 91, \"max\": 91}}}\n",
      "\u001b[0m\n",
      "\u001b[34m[04/07/2021 08:10:53 INFO 140665436149568] #throughput_metric: host=algo-1, train throughput=152404.06827967256 records/second\u001b[0m\n",
      "\u001b[34m[04/07/2021 08:10:53 WARNING 140665436149568] wait_for_all_workers will not sync workers since the kv store is not running distributed\u001b[0m\n",
      "\u001b[34m[04/07/2021 08:10:53 INFO 140665436149568] Pulling entire model from kvstore to finalize\u001b[0m\n",
      "\u001b[34m#metrics {\"StartTime\": 1617783053.6033587, \"EndTime\": 1617783053.6057491, \"Dimensions\": {\"Algorithm\": \"factorization-machines\", \"Host\": \"algo-1\", \"Operation\": \"training\"}, \"Metrics\": {\"finalize.time\": {\"sum\": 2.084493637084961, \"count\": 1, \"min\": 2.084493637084961, \"max\": 2.084493637084961}}}\n",
      "\u001b[0m\n",
      "\u001b[34m[04/07/2021 08:10:53 INFO 140665436149568] Saved checkpoint to \"/tmp/tmp23r_6l3r/state-0001.params\"\u001b[0m\n",
      "\u001b[34m[2021-04-07 08:10:53.612] [tensorio] [info] epoch_stats={\"data_pipeline\": \"/opt/ml/input/data/test\", \"epoch\": 0, \"duration\": 6408, \"num_examples\": 1, \"num_bytes\": 64000}\u001b[0m\n",
      "\u001b[34m[2021-04-07 08:10:53.637] [tensorio] [info] epoch_stats={\"data_pipeline\": \"/opt/ml/input/data/test\", \"epoch\": 1, \"duration\": 24, \"num_examples\": 10, \"num_bytes\": 603520}\u001b[0m\n",
      "\u001b[34m#metrics {\"StartTime\": 1617783053.6120503, \"EndTime\": 1617783053.6372023, \"Dimensions\": {\"Algorithm\": \"factorization-machines\", \"Host\": \"algo-1\", \"Operation\": \"training\", \"Meta\": \"test_data_iter\"}, \"Metrics\": {\"Total Records Seen\": {\"sum\": 9430.0, \"count\": 1, \"min\": 9430, \"max\": 9430}, \"Total Batches Seen\": {\"sum\": 10.0, \"count\": 1, \"min\": 10, \"max\": 10}, \"Max Records Seen Between Resets\": {\"sum\": 9430.0, \"count\": 1, \"min\": 9430, \"max\": 9430}, \"Max Batches Seen Between Resets\": {\"sum\": 10.0, \"count\": 1, \"min\": 10, \"max\": 10}, \"Reset Count\": {\"sum\": 1.0, \"count\": 1, \"min\": 1, \"max\": 1}, \"Number of Records Since Last Reset\": {\"sum\": 9430.0, \"count\": 1, \"min\": 9430, \"max\": 9430}, \"Number of Batches Since Last Reset\": {\"sum\": 10.0, \"count\": 1, \"min\": 10, \"max\": 10}}}\n",
      "\u001b[0m\n",
      "\u001b[34m[04/07/2021 08:10:53 INFO 140665436149568] #test_score (algo-1) : ('rmse', 1.0160641677849722)\u001b[0m\n",
      "\u001b[34m[04/07/2021 08:10:53 INFO 140665436149568] #test_score (algo-1) : ('mse', 1.0323863930565682)\u001b[0m\n",
      "\u001b[34m[04/07/2021 08:10:53 INFO 140665436149568] #test_score (algo-1) : ('absolute_loss', 0.8338567836919241)\u001b[0m\n",
      "\u001b[34m[04/07/2021 08:10:53 INFO 140665436149568] #quality_metric: host=algo-1, test rmse <loss>=1.0160641677849722\u001b[0m\n",
      "\u001b[34m[04/07/2021 08:10:53 INFO 140665436149568] #quality_metric: host=algo-1, test mse <loss>=1.0323863930565682\u001b[0m\n",
      "\u001b[34m[04/07/2021 08:10:53 INFO 140665436149568] #quality_metric: host=algo-1, test absolute_loss <loss>=0.8338567836919241\u001b[0m\n",
      "\u001b[34m#metrics {\"StartTime\": 1617783053.6058352, \"EndTime\": 1617783053.6377816, \"Dimensions\": {\"Algorithm\": \"factorization-machines\", \"Host\": \"algo-1\", \"Operation\": \"training\"}, \"Metrics\": {\"setuptime\": {\"sum\": 21.96335792541504, \"count\": 1, \"min\": 21.96335792541504, \"max\": 21.96335792541504}, \"totaltime\": {\"sum\": 6466.682195663452, \"count\": 1, \"min\": 6466.682195663452, \"max\": 6466.682195663452}}}\n",
      "\u001b[0m\n",
      "\n",
      "2021-04-07 08:11:26 Completed - Training job completed\n",
      "Training seconds: 54\n",
      "Billable seconds: 54\n"
     ]
    }
   ],
   "source": [
    "fm.fit({'train': train_data, 'test': test_data})"
   ]
  },
  {
   "cell_type": "code",
   "execution_count": 27,
   "metadata": {},
   "outputs": [],
   "source": [
    "from sagemaker.deserializers import JSONDeserializer\n",
    "from sagemaker.serializers import JSONSerializer\n",
    "\n",
    "endpoint_name = 'fm-movielens-100k'\n",
    "class FMSerializer(JSONSerializer):\n",
    "    def serialize(self,data):\n",
    "        js = {\"instances\":[]}\n",
    "        for row in data:\n",
    "            js[\"instances\"].append({\"features\":\n",
    "                                   row.tolist()})\n",
    "            return json.dumps(js)"
   ]
  },
  {
   "cell_type": "code",
   "execution_count": 29,
   "metadata": {},
   "outputs": [
    {
     "name": "stdout",
     "output_type": "stream",
     "text": [
      "-----------------!"
     ]
    }
   ],
   "source": [
    "fm_predictor = fm.deploy(\n",
    "initial_instance_count = 1,\n",
    "instance_type = \"ml.t2.medium\",\n",
    "serializer = FMSerializer(),\n",
    "deserializer = JSONDeserializer()\n",
    ")"
   ]
  },
  {
   "cell_type": "code",
   "execution_count": 30,
   "metadata": {},
   "outputs": [
    {
     "name": "stdout",
     "output_type": "stream",
     "text": [
      "{'predictions': [{'score': 3.4194469451904297}]}\n"
     ]
    }
   ],
   "source": [
    "result = fm_predictor.predict(X_test[:3].toarray())\n",
    "print(result)"
   ]
  },
  {
   "cell_type": "code",
   "execution_count": 31,
   "metadata": {},
   "outputs": [],
   "source": [
    "fm_predictor.delete_endpoint()"
   ]
  },
  {
   "cell_type": "code",
   "execution_count": 33,
   "metadata": {},
   "outputs": [],
   "source": [
    "import boto3\n",
    "from sagemaker import image_uris\n",
    "region = boto3.Session().region_name\n",
    "container = image_uris.retrieve('pca', region)\n",
    "\n",
    "pca = sagemaker.estimator.Estimator(\n",
    "    container,\n",
    "    role=sagemaker.get_execution_role(),\n",
    "    instance_count=1,\n",
    "    instance_type='ml.m5.xlarge',\n",
    "    output_path=output_prefix)"
   ]
  },
  {
   "cell_type": "code",
   "execution_count": 34,
   "metadata": {},
   "outputs": [],
   "source": [
    "pca.set_hyperparameters(feature_dim=num_features,\n",
    "                        num_components=64,\n",
    "                        mini_batch_size=1024)"
   ]
  },
  {
   "cell_type": "code",
   "execution_count": 35,
   "metadata": {},
   "outputs": [
    {
     "name": "stdout",
     "output_type": "stream",
     "text": [
      "2021-04-07 08:56:09 Starting - Starting the training job...\n",
      "2021-04-07 08:56:32 Starting - Launching requested ML instancesProfilerReport-1617785769: InProgress\n",
      "......\n",
      "2021-04-07 08:57:32 Starting - Preparing the instances for training...\n",
      "2021-04-07 08:58:04 Downloading - Downloading input data...\n",
      "2021-04-07 08:58:32 Training - Training image download completed. Training in progress.\u001b[34mDocker entrypoint called with argument(s): train\u001b[0m\n",
      "\u001b[34mRunning default environment configuration script\u001b[0m\n",
      "\u001b[34m[04/07/2021 08:58:32 INFO 139658605082432] Reading default configuration from /opt/amazon/lib/python3.7/site-packages/algorithm/resources/default-conf.json: {'algorithm_mode': 'regular', 'subtract_mean': 'true', 'extra_components': '-1', 'force_dense': 'true', 'epochs': 1, '_log_level': 'info', '_kvstore': 'dist_sync', '_num_kv_servers': 'auto', '_num_gpus': 'auto'}\u001b[0m\n",
      "\u001b[34m[04/07/2021 08:58:32 INFO 139658605082432] Merging with provided configuration from /opt/ml/input/config/hyperparameters.json: {'feature_dim': '2625', 'num_components': '64', 'mini_batch_size': '1024'}\u001b[0m\n",
      "\u001b[34m[04/07/2021 08:58:32 INFO 139658605082432] Final configuration: {'algorithm_mode': 'regular', 'subtract_mean': 'true', 'extra_components': '-1', 'force_dense': 'true', 'epochs': 1, '_log_level': 'info', '_kvstore': 'dist_sync', '_num_kv_servers': 'auto', '_num_gpus': 'auto', 'feature_dim': '2625', 'num_components': '64', 'mini_batch_size': '1024'}\u001b[0m\n",
      "\u001b[34m[04/07/2021 08:58:32 WARNING 139658605082432] Loggers have already been setup.\u001b[0m\n",
      "\u001b[34m[04/07/2021 08:58:33 INFO 139658605082432] Launching parameter server for role scheduler\u001b[0m\n",
      "\u001b[34m[04/07/2021 08:58:33 INFO 139658605082432] {'ENVROOT': '/opt/amazon', 'PROTOCOL_BUFFERS_PYTHON_IMPLEMENTATION': 'cpp', 'HOSTNAME': 'ip-10-0-161-251.us-east-2.compute.internal', 'TRAINING_JOB_NAME': 'pca-2021-04-07-08-56-09-130', 'NVIDIA_REQUIRE_CUDA': 'cuda>=9.0', 'TRAINING_JOB_ARN': 'arn:aws:sagemaker:us-east-2:664224523979:training-job/pca-2021-04-07-08-56-09-130', 'AWS_CONTAINER_CREDENTIALS_RELATIVE_URI': '/v2/credentials/d6c1dd14-4875-4bf9-a55e-e9920734d7ad', 'CANONICAL_ENVROOT': '/opt/amazon', 'PYTHONUNBUFFERED': 'TRUE', 'NVIDIA_VISIBLE_DEVICES': 'void', 'LD_LIBRARY_PATH': '/opt/amazon/lib/python3.7/site-packages/cv2/../../../../lib:/usr/local/nvidia/lib64:/opt/amazon/lib', 'NVIDIA_DRIVER_CAPABILITIES': 'compute,utility', 'AWS_EXECUTION_ENV': 'AWS_ECS_EC2', 'PATH': '/opt/amazon/bin:/usr/local/nvidia/bin:/usr/local/sbin:/usr/local/bin:/usr/sbin:/usr/bin:/sbin:/bin:/opt/amazon/bin:/opt/amazon/bin', 'PWD': '/', 'LANG': 'en_US.utf8', 'AWS_REGION': 'us-east-2', 'HOME': '/root', 'SHLVL': '1', 'PROTOCOL_BUFFERS_PYTHON_IMPLEMENTATION_VERSION': '2', 'OMP_NUM_THREADS': '2', 'DMLC_INTERFACE': 'eth0', 'ECS_CONTAINER_METADATA_URI': 'http://169.254.170.2/v3/8aae2d17-2404-43d3-9a91-0caface938e4', 'ECS_CONTAINER_METADATA_URI_V4': 'http://169.254.170.2/v4/8aae2d17-2404-43d3-9a91-0caface938e4', 'SAGEMAKER_HTTP_PORT': '8080', 'SAGEMAKER_DATA_PATH': '/opt/ml'}\u001b[0m\n",
      "\u001b[34m[04/07/2021 08:58:33 INFO 139658605082432] envs={'ENVROOT': '/opt/amazon', 'PROTOCOL_BUFFERS_PYTHON_IMPLEMENTATION': 'cpp', 'HOSTNAME': 'ip-10-0-161-251.us-east-2.compute.internal', 'TRAINING_JOB_NAME': 'pca-2021-04-07-08-56-09-130', 'NVIDIA_REQUIRE_CUDA': 'cuda>=9.0', 'TRAINING_JOB_ARN': 'arn:aws:sagemaker:us-east-2:664224523979:training-job/pca-2021-04-07-08-56-09-130', 'AWS_CONTAINER_CREDENTIALS_RELATIVE_URI': '/v2/credentials/d6c1dd14-4875-4bf9-a55e-e9920734d7ad', 'CANONICAL_ENVROOT': '/opt/amazon', 'PYTHONUNBUFFERED': 'TRUE', 'NVIDIA_VISIBLE_DEVICES': 'void', 'LD_LIBRARY_PATH': '/opt/amazon/lib/python3.7/site-packages/cv2/../../../../lib:/usr/local/nvidia/lib64:/opt/amazon/lib', 'NVIDIA_DRIVER_CAPABILITIES': 'compute,utility', 'AWS_EXECUTION_ENV': 'AWS_ECS_EC2', 'PATH': '/opt/amazon/bin:/usr/local/nvidia/bin:/usr/local/sbin:/usr/local/bin:/usr/sbin:/usr/bin:/sbin:/bin:/opt/amazon/bin:/opt/amazon/bin', 'PWD': '/', 'LANG': 'en_US.utf8', 'AWS_REGION': 'us-east-2', 'HOME': '/root', 'SHLVL': '1', 'PROTOCOL_BUFFERS_PYTHON_IMPLEMENTATION_VERSION': '2', 'OMP_NUM_THREADS': '2', 'DMLC_INTERFACE': 'eth0', 'ECS_CONTAINER_METADATA_URI': 'http://169.254.170.2/v3/8aae2d17-2404-43d3-9a91-0caface938e4', 'ECS_CONTAINER_METADATA_URI_V4': 'http://169.254.170.2/v4/8aae2d17-2404-43d3-9a91-0caface938e4', 'SAGEMAKER_HTTP_PORT': '8080', 'SAGEMAKER_DATA_PATH': '/opt/ml', 'DMLC_ROLE': 'scheduler', 'DMLC_PS_ROOT_URI': '10.0.161.251', 'DMLC_PS_ROOT_PORT': '9000', 'DMLC_NUM_SERVER': '1', 'DMLC_NUM_WORKER': '1'}\u001b[0m\n",
      "\u001b[34m[04/07/2021 08:58:33 INFO 139658605082432] Launching parameter server for role server\u001b[0m\n",
      "\u001b[34m[04/07/2021 08:58:33 INFO 139658605082432] {'ENVROOT': '/opt/amazon', 'PROTOCOL_BUFFERS_PYTHON_IMPLEMENTATION': 'cpp', 'HOSTNAME': 'ip-10-0-161-251.us-east-2.compute.internal', 'TRAINING_JOB_NAME': 'pca-2021-04-07-08-56-09-130', 'NVIDIA_REQUIRE_CUDA': 'cuda>=9.0', 'TRAINING_JOB_ARN': 'arn:aws:sagemaker:us-east-2:664224523979:training-job/pca-2021-04-07-08-56-09-130', 'AWS_CONTAINER_CREDENTIALS_RELATIVE_URI': '/v2/credentials/d6c1dd14-4875-4bf9-a55e-e9920734d7ad', 'CANONICAL_ENVROOT': '/opt/amazon', 'PYTHONUNBUFFERED': 'TRUE', 'NVIDIA_VISIBLE_DEVICES': 'void', 'LD_LIBRARY_PATH': '/opt/amazon/lib/python3.7/site-packages/cv2/../../../../lib:/usr/local/nvidia/lib64:/opt/amazon/lib', 'NVIDIA_DRIVER_CAPABILITIES': 'compute,utility', 'AWS_EXECUTION_ENV': 'AWS_ECS_EC2', 'PATH': '/opt/amazon/bin:/usr/local/nvidia/bin:/usr/local/sbin:/usr/local/bin:/usr/sbin:/usr/bin:/sbin:/bin:/opt/amazon/bin:/opt/amazon/bin', 'PWD': '/', 'LANG': 'en_US.utf8', 'AWS_REGION': 'us-east-2', 'HOME': '/root', 'SHLVL': '1', 'PROTOCOL_BUFFERS_PYTHON_IMPLEMENTATION_VERSION': '2', 'OMP_NUM_THREADS': '2', 'DMLC_INTERFACE': 'eth0', 'ECS_CONTAINER_METADATA_URI': 'http://169.254.170.2/v3/8aae2d17-2404-43d3-9a91-0caface938e4', 'ECS_CONTAINER_METADATA_URI_V4': 'http://169.254.170.2/v4/8aae2d17-2404-43d3-9a91-0caface938e4', 'SAGEMAKER_HTTP_PORT': '8080', 'SAGEMAKER_DATA_PATH': '/opt/ml'}\u001b[0m\n",
      "\u001b[34m[04/07/2021 08:58:33 INFO 139658605082432] envs={'ENVROOT': '/opt/amazon', 'PROTOCOL_BUFFERS_PYTHON_IMPLEMENTATION': 'cpp', 'HOSTNAME': 'ip-10-0-161-251.us-east-2.compute.internal', 'TRAINING_JOB_NAME': 'pca-2021-04-07-08-56-09-130', 'NVIDIA_REQUIRE_CUDA': 'cuda>=9.0', 'TRAINING_JOB_ARN': 'arn:aws:sagemaker:us-east-2:664224523979:training-job/pca-2021-04-07-08-56-09-130', 'AWS_CONTAINER_CREDENTIALS_RELATIVE_URI': '/v2/credentials/d6c1dd14-4875-4bf9-a55e-e9920734d7ad', 'CANONICAL_ENVROOT': '/opt/amazon', 'PYTHONUNBUFFERED': 'TRUE', 'NVIDIA_VISIBLE_DEVICES': 'void', 'LD_LIBRARY_PATH': '/opt/amazon/lib/python3.7/site-packages/cv2/../../../../lib:/usr/local/nvidia/lib64:/opt/amazon/lib', 'NVIDIA_DRIVER_CAPABILITIES': 'compute,utility', 'AWS_EXECUTION_ENV': 'AWS_ECS_EC2', 'PATH': '/opt/amazon/bin:/usr/local/nvidia/bin:/usr/local/sbin:/usr/local/bin:/usr/sbin:/usr/bin:/sbin:/bin:/opt/amazon/bin:/opt/amazon/bin', 'PWD': '/', 'LANG': 'en_US.utf8', 'AWS_REGION': 'us-east-2', 'HOME': '/root', 'SHLVL': '1', 'PROTOCOL_BUFFERS_PYTHON_IMPLEMENTATION_VERSION': '2', 'OMP_NUM_THREADS': '2', 'DMLC_INTERFACE': 'eth0', 'ECS_CONTAINER_METADATA_URI': 'http://169.254.170.2/v3/8aae2d17-2404-43d3-9a91-0caface938e4', 'ECS_CONTAINER_METADATA_URI_V4': 'http://169.254.170.2/v4/8aae2d17-2404-43d3-9a91-0caface938e4', 'SAGEMAKER_HTTP_PORT': '8080', 'SAGEMAKER_DATA_PATH': '/opt/ml', 'DMLC_ROLE': 'server', 'DMLC_PS_ROOT_URI': '10.0.161.251', 'DMLC_PS_ROOT_PORT': '9000', 'DMLC_NUM_SERVER': '1', 'DMLC_NUM_WORKER': '1'}\u001b[0m\n",
      "\u001b[34m[04/07/2021 08:58:33 INFO 139658605082432] Environment: {'ENVROOT': '/opt/amazon', 'PROTOCOL_BUFFERS_PYTHON_IMPLEMENTATION': 'cpp', 'HOSTNAME': 'ip-10-0-161-251.us-east-2.compute.internal', 'TRAINING_JOB_NAME': 'pca-2021-04-07-08-56-09-130', 'NVIDIA_REQUIRE_CUDA': 'cuda>=9.0', 'TRAINING_JOB_ARN': 'arn:aws:sagemaker:us-east-2:664224523979:training-job/pca-2021-04-07-08-56-09-130', 'AWS_CONTAINER_CREDENTIALS_RELATIVE_URI': '/v2/credentials/d6c1dd14-4875-4bf9-a55e-e9920734d7ad', 'CANONICAL_ENVROOT': '/opt/amazon', 'PYTHONUNBUFFERED': 'TRUE', 'NVIDIA_VISIBLE_DEVICES': 'void', 'LD_LIBRARY_PATH': '/opt/amazon/lib/python3.7/site-packages/cv2/../../../../lib:/usr/local/nvidia/lib64:/opt/amazon/lib', 'NVIDIA_DRIVER_CAPABILITIES': 'compute,utility', 'AWS_EXECUTION_ENV': 'AWS_ECS_EC2', 'PATH': '/opt/amazon/bin:/usr/local/nvidia/bin:/usr/local/sbin:/usr/local/bin:/usr/sbin:/usr/bin:/sbin:/bin:/opt/amazon/bin:/opt/amazon/bin', 'PWD': '/', 'LANG': 'en_US.utf8', 'AWS_REGION': 'us-east-2', 'HOME': '/root', 'SHLVL': '1', 'PROTOCOL_BUFFERS_PYTHON_IMPLEMENTATION_VERSION': '2', 'OMP_NUM_THREADS': '2', 'DMLC_INTERFACE': 'eth0', 'ECS_CONTAINER_METADATA_URI': 'http://169.254.170.2/v3/8aae2d17-2404-43d3-9a91-0caface938e4', 'ECS_CONTAINER_METADATA_URI_V4': 'http://169.254.170.2/v4/8aae2d17-2404-43d3-9a91-0caface938e4', 'SAGEMAKER_HTTP_PORT': '8080', 'SAGEMAKER_DATA_PATH': '/opt/ml', 'DMLC_ROLE': 'worker', 'DMLC_PS_ROOT_URI': '10.0.161.251', 'DMLC_PS_ROOT_PORT': '9000', 'DMLC_NUM_SERVER': '1', 'DMLC_NUM_WORKER': '1'}\u001b[0m\n",
      "\u001b[34mProcess 33 is a shell:scheduler.\u001b[0m\n",
      "\u001b[34mProcess 42 is a shell:server.\u001b[0m\n",
      "\u001b[34mProcess 1 is a worker.\u001b[0m\n",
      "\u001b[34m[04/07/2021 08:58:33 INFO 139658605082432] Using default worker.\u001b[0m\n",
      "\u001b[34m[04/07/2021 08:58:33 INFO 139658605082432] Loaded iterator creator application/x-labeled-vector-protobuf for content type ('application/x-labeled-vector-protobuf', '1.0')\u001b[0m\n",
      "\u001b[34m[04/07/2021 08:58:33 INFO 139658605082432] Loaded iterator creator application/x-recordio-protobuf for content type ('application/x-recordio-protobuf', '1.0')\u001b[0m\n",
      "\u001b[34m[04/07/2021 08:58:33 INFO 139658605082432] Loaded iterator creator protobuf for content type ('protobuf', '1.0')\u001b[0m\n",
      "\u001b[34m[04/07/2021 08:58:33 INFO 139658605082432] Checkpoint loading and saving are disabled.\u001b[0m\n",
      "\u001b[34m[2021-04-07 08:58:33.887] [tensorio] [warning] TensorIO is already initialized; ignoring the initialization routine.\u001b[0m\n",
      "\u001b[34m[04/07/2021 08:58:33 INFO 139658605082432] Create Store: dist_sync\u001b[0m\n",
      "\u001b[34m[04/07/2021 08:58:34 INFO 139658605082432] nvidia-smi took: 0.02520012855529785 secs to identify 0 gpus\u001b[0m\n",
      "\u001b[34m[04/07/2021 08:58:34 INFO 139658605082432] Number of GPUs being used: 0\u001b[0m\n",
      "\u001b[34m[04/07/2021 08:58:34 INFO 139658605082432] The default executor is <PCAExecutor on cpu(0)>.\u001b[0m\n",
      "\u001b[34m[04/07/2021 08:58:34 INFO 139658605082432] 2625 feature(s) found in 'data'.\u001b[0m\n",
      "\u001b[34m[04/07/2021 08:58:34 INFO 139658605082432] <PCAExecutor on cpu(0)> is assigned to batch slice from 0 to 1023.\u001b[0m\n",
      "\u001b[34m#metrics {\"StartTime\": 1617785913.844875, \"EndTime\": 1617785914.688254, \"Dimensions\": {\"Algorithm\": \"PCA\", \"Host\": \"algo-1\", \"Operation\": \"training\"}, \"Metrics\": {\"initialize.time\": {\"sum\": 753.4961700439453, \"count\": 1, \"min\": 753.4961700439453, \"max\": 753.4961700439453}}}\n",
      "\u001b[0m\n",
      "\u001b[34m#metrics {\"StartTime\": 1617785914.6884365, \"EndTime\": 1617785914.6884842, \"Dimensions\": {\"Algorithm\": \"PCA\", \"Host\": \"algo-1\", \"Operation\": \"training\", \"Meta\": \"init_train_data_iter\"}, \"Metrics\": {\"Total Records Seen\": {\"sum\": 0.0, \"count\": 1, \"min\": 0, \"max\": 0}, \"Total Batches Seen\": {\"sum\": 0.0, \"count\": 1, \"min\": 0, \"max\": 0}, \"Max Records Seen Between Resets\": {\"sum\": 0.0, \"count\": 1, \"min\": 0, \"max\": 0}, \"Max Batches Seen Between Resets\": {\"sum\": 0.0, \"count\": 1, \"min\": 0, \"max\": 0}, \"Reset Count\": {\"sum\": 0.0, \"count\": 1, \"min\": 0, \"max\": 0}, \"Number of Records Since Last Reset\": {\"sum\": 0.0, \"count\": 1, \"min\": 0, \"max\": 0}, \"Number of Batches Since Last Reset\": {\"sum\": 0.0, \"count\": 1, \"min\": 0, \"max\": 0}}}\n",
      "\u001b[0m\n",
      "\u001b[34m[2021-04-07 08:58:34.695] [tensorio] [info] epoch_stats={\"data_pipeline\": \"/opt/ml/input/data/train\", \"epoch\": 0, \"duration\": 850, \"num_examples\": 1, \"num_bytes\": 65536}\u001b[0m\n",
      "\u001b[34m[2021-04-07 08:58:42.139] [tensorio] [info] epoch_stats={\"data_pipeline\": \"/opt/ml/input/data/train\", \"epoch\": 1, \"duration\": 7420, \"num_examples\": 89, \"num_bytes\": 5796480}\u001b[0m\n",
      "\u001b[34m#metrics {\"StartTime\": 1617785914.688378, \"EndTime\": 1617785922.1402912, \"Dimensions\": {\"Algorithm\": \"PCA\", \"Host\": \"algo-1\", \"Operation\": \"training\"}, \"Metrics\": {\"epochs\": {\"sum\": 1.0, \"count\": 1, \"min\": 1, \"max\": 1}, \"update.time\": {\"sum\": 7444.187641143799, \"count\": 1, \"min\": 7444.187641143799, \"max\": 7444.187641143799}}}\n",
      "\u001b[0m\n",
      "\u001b[34m[04/07/2021 08:58:42 INFO 139658605082432] #progress_metric: host=algo-1, completed 100.0 % of epochs\u001b[0m\n",
      "\u001b[34m#metrics {\"StartTime\": 1617785914.6960642, \"EndTime\": 1617785922.140797, \"Dimensions\": {\"Algorithm\": \"PCA\", \"Host\": \"algo-1\", \"Operation\": \"training\", \"epoch\": 0, \"Meta\": \"training_data_iter\"}, \"Metrics\": {\"Total Records Seen\": {\"sum\": 90570.0, \"count\": 1, \"min\": 90570, \"max\": 90570}, \"Total Batches Seen\": {\"sum\": 89.0, \"count\": 1, \"min\": 89, \"max\": 89}, \"Max Records Seen Between Resets\": {\"sum\": 90570.0, \"count\": 1, \"min\": 90570, \"max\": 90570}, \"Max Batches Seen Between Resets\": {\"sum\": 89.0, \"count\": 1, \"min\": 89, \"max\": 89}, \"Reset Count\": {\"sum\": 1.0, \"count\": 1, \"min\": 1, \"max\": 1}, \"Number of Records Since Last Reset\": {\"sum\": 90570.0, \"count\": 1, \"min\": 90570, \"max\": 90570}, \"Number of Batches Since Last Reset\": {\"sum\": 89.0, \"count\": 1, \"min\": 89, \"max\": 89}}}\n",
      "\u001b[0m\n",
      "\u001b[34m[04/07/2021 08:58:42 INFO 139658605082432] #throughput_metric: host=algo-1, train throughput=12165.299316270148 records/second\u001b[0m\n",
      "\u001b[34m#metrics {\"StartTime\": 1617785922.1403863, \"EndTime\": 1617785926.7643187, \"Dimensions\": {\"Algorithm\": \"PCA\", \"Host\": \"algo-1\", \"Operation\": \"training\"}, \"Metrics\": {\"finalize.time\": {\"sum\": 4622.960805892944, \"count\": 1, \"min\": 4622.960805892944, \"max\": 4622.960805892944}}}\n",
      "\u001b[0m\n",
      "\u001b[34m[04/07/2021 08:58:46 INFO 139658605082432] Number of GPUs being used: 0\u001b[0m\n",
      "\u001b[34m[2021-04-07 08:58:46.771] [tensorio] [info] epoch_stats={\"data_pipeline\": \"/opt/ml/input/data/test\", \"epoch\": 0, \"duration\": 12882, \"num_examples\": 1, \"num_bytes\": 65536}\u001b[0m\n",
      "\u001b[34m[04/07/2021 08:58:46 INFO 139658605082432] The default executor is <PCAModel on cpu(0)>.\u001b[0m\n",
      "\u001b[34m[04/07/2021 08:58:46 INFO 139658605082432] <PCAModel on cpu(0)> is assigned to batch slice from 0 to 1023.\u001b[0m\n",
      "\u001b[34m[2021-04-07 08:58:47.063] [tensorio] [info] epoch_stats={\"data_pipeline\": \"/opt/ml/input/data/test\", \"epoch\": 1, \"duration\": 291, \"num_examples\": 10, \"num_bytes\": 603520}\u001b[0m\n",
      "\u001b[34m#metrics {\"StartTime\": 1617785926.7660098, \"EndTime\": 1617785927.0637805, \"Dimensions\": {\"Algorithm\": \"PCA\", \"Host\": \"algo-1\", \"Operation\": \"training\", \"Meta\": \"test_data_iter\"}, \"Metrics\": {\"Total Records Seen\": {\"sum\": 9430.0, \"count\": 1, \"min\": 9430, \"max\": 9430}, \"Total Batches Seen\": {\"sum\": 10.0, \"count\": 1, \"min\": 10, \"max\": 10}, \"Max Records Seen Between Resets\": {\"sum\": 9430.0, \"count\": 1, \"min\": 9430, \"max\": 9430}, \"Max Batches Seen Between Resets\": {\"sum\": 10.0, \"count\": 1, \"min\": 10, \"max\": 10}, \"Reset Count\": {\"sum\": 1.0, \"count\": 1, \"min\": 1, \"max\": 1}, \"Number of Records Since Last Reset\": {\"sum\": 9430.0, \"count\": 1, \"min\": 9430, \"max\": 9430}, \"Number of Batches Since Last Reset\": {\"sum\": 10.0, \"count\": 1, \"min\": 10, \"max\": 10}}}\n",
      "\u001b[0m\n",
      "\u001b[34m[04/07/2021 08:58:47 INFO 139658605082432] #test_score (algo-1) : ('pln', 0.9113882152616202)\u001b[0m\n",
      "\u001b[34m#metrics {\"StartTime\": 1617785926.7644153, \"EndTime\": 1617785927.0643837, \"Dimensions\": {\"Algorithm\": \"PCA\", \"Host\": \"algo-1\", \"Operation\": \"training\"}, \"Metrics\": {\"setuptime\": {\"sum\": 1534.0499877929688, \"count\": 1, \"min\": 1534.0499877929688, \"max\": 1534.0499877929688}, \"totaltime\": {\"sum\": 14848.963022232056, \"count\": 1, \"min\": 14848.963022232056, \"max\": 14848.963022232056}}}\n",
      "\u001b[0m\n",
      "\n",
      "2021-04-07 08:58:57 Uploading - Uploading generated training model\n",
      "2021-04-07 08:58:57 Completed - Training job completed\n",
      "Training seconds: 53\n",
      "Billable seconds: 53\n"
     ]
    }
   ],
   "source": [
    "pca.fit({'train': train_data, 'test': test_data})"
   ]
  },
  {
   "cell_type": "code",
   "execution_count": 49,
   "metadata": {},
   "outputs": [
    {
     "name": "stdout",
     "output_type": "stream",
     "text": [
      "---------------!"
     ]
    }
   ],
   "source": [
    "pca_predictor = pca.deploy(\n",
    "    endpoint_name='pca-movielens-100k1',\n",
    "    instance_type='ml.t2.medium',\n",
    "    initial_instance_count=1,\n",
    "    serializer = FMSerializer(),\n",
    "    deserializer = JSONDeserializer())"
   ]
  },
  {
   "cell_type": "code",
   "execution_count": 50,
   "metadata": {},
   "outputs": [],
   "source": [
    "from sagemaker.deserializers import JSONDeserializer\n",
    "from sagemaker.serializers import JSONSerializer\n",
    "\n",
    "endpoint_name = 'fm-movielens-100k1'\n",
    "class FMSerializer(JSONSerializer):\n",
    "    def serialize(self,data):\n",
    "        js = {\"instances\":[]}\n",
    "        for row in data:\n",
    "            js[\"instances\"].append({\"features\":\n",
    "                                   row.tolist()})\n",
    "            return json.dumps(js)"
   ]
  },
  {
   "cell_type": "code",
   "execution_count": 51,
   "metadata": {},
   "outputs": [
    {
     "name": "stdout",
     "output_type": "stream",
     "text": [
      "{'projections': [{'projection': [-0.008711372502148151, 0.0019895541481673717, 0.002355781616643071, 0.012406938709318638, -0.0069608548656105995, -0.009556426666676998, 0.0070395139046013355, 0.0014258784940466285, -0.014954577200114727, 0.006284230388700962, 0.001228088280186057, 0.0033577263820916414, -0.005306658800691366, 0.003560103476047516, -0.005722153931856155, 0.0018947564531117678, -0.018347417935729027, 0.005859722383320332, -0.0051197693683207035, 0.005412592086941004, 0.002981008030474186, -0.0070180222392082214, -0.004825756885111332, 0.0006951577961444855, -0.002631745534017682, 0.0026822059880942106, -0.00016326206969097257, -0.002161189913749695, 0.007496879436075687, -0.010350828990340233, 0.009461312554776669, -0.007941177114844322, 0.008525246754288673, -0.005494360346347094, 0.002860172651708126, -0.00023960997350513935, 0.00014624283357989043, -0.005788157694041729, 0.010191304609179497, -0.0024550503585487604, 0.005202359054237604, -0.0032088235020637512, -0.0009270607260987163, -0.002143347403034568, 0.004736622329801321, -0.008692862465977669, 0.0038926110137254, -0.002227545715868473, -0.0010053303558379412, -0.005874359514564276, 0.0006837833789177239, -0.006761424709111452, 0.0008008057484403253, -0.0017689920496195555, 0.007140465080738068, -0.0058555398136377335, 0.004077749792486429, -0.0044308737851679325, -0.0034359279088675976, 0.005937075708061457, -0.00604742718860507, 0.007952660322189331, 0.00624182540923357, -0.007614493370056152]}]}\n"
     ]
    }
   ],
   "source": [
    "result = pca_predictor.predict(X_test[0].toarray())\n",
    "print(result)"
   ]
  },
  {
   "cell_type": "code",
   "execution_count": 52,
   "metadata": {},
   "outputs": [],
   "source": [
    "pca_predictor.delete_endpoint()"
   ]
  },
  {
   "cell_type": "code",
   "execution_count": 54,
   "metadata": {},
   "outputs": [
    {
     "data": {
      "text/plain": [
       "{'ResponseMetadata': {'RequestId': 'a66aebd0-2afd-419e-881e-5274d38f4818',\n",
       "  'HTTPStatusCode': 200,\n",
       "  'HTTPHeaders': {'x-amzn-requestid': 'a66aebd0-2afd-419e-881e-5274d38f4818',\n",
       "   'content-type': 'application/x-amz-json-1.1',\n",
       "   'content-length': '0',\n",
       "   'date': 'Wed, 07 Apr 2021 09:26:42 GMT'},\n",
       "  'RetryAttempts': 0}}"
      ]
     },
     "execution_count": 54,
     "metadata": {},
     "output_type": "execute_result"
    }
   ],
   "source": [
    "ep_name= \"pca-movielens-100k\"\n",
    "import boto3\n",
    "sm = boto3.Session().client('sagemaker')\n",
    "sm.delete_endpoint(EndpointName=ep_name)"
   ]
  },
  {
   "cell_type": "code",
   "execution_count": null,
   "metadata": {},
   "outputs": [],
   "source": []
  }
 ],
 "metadata": {
  "instance_type": "ml.t3.medium",
  "kernelspec": {
   "display_name": "Python 3 (TensorFlow 2.3 Python 3.7 CPU Optimized)",
   "language": "python",
   "name": "python3__SAGEMAKER_INTERNAL__arn:aws:sagemaker:us-east-2:429704687514:image/tensorflow-2.3-cpu-py37-ubuntu18.04-v1"
  },
  "language_info": {
   "codemirror_mode": {
    "name": "ipython",
    "version": 3
   },
   "file_extension": ".py",
   "mimetype": "text/x-python",
   "name": "python",
   "nbconvert_exporter": "python",
   "pygments_lexer": "ipython3",
   "version": "3.7.10"
  }
 },
 "nbformat": 4,
 "nbformat_minor": 4
}
